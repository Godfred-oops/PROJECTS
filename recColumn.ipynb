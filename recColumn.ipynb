{
  "nbformat": 4,
  "nbformat_minor": 0,
  "metadata": {
    "kernelspec": {
      "display_name": "Python 3",
      "language": "python",
      "name": "python3"
    },
    "language_info": {
      "codemirror_mode": {
        "name": "ipython",
        "version": 3
      },
      "file_extension": ".py",
      "mimetype": "text/x-python",
      "name": "python",
      "nbconvert_exporter": "python",
      "pygments_lexer": "ipython3",
      "version": "3.7.3"
    },
    "colab": {
      "name": "recColumn.ipynb",
      "provenance": [],
      "include_colab_link": true
    }
  },
  "cells": [
    {
      "cell_type": "markdown",
      "metadata": {
        "id": "view-in-github",
        "colab_type": "text"
      },
      "source": [
        "<a href=\"https://colab.research.google.com/github/Godfred-oops/panda-tutorials/blob/master/recColumn.ipynb\" target=\"_parent\"><img src=\"https://colab.research.google.com/assets/colab-badge.svg\" alt=\"Open In Colab\"/></a>"
      ]
    },
    {
      "cell_type": "code",
      "metadata": {
        "id": "fa06BMotnolX",
        "outputId": "fc35a816-a03e-48c0-fb24-842abaa71b47"
      },
      "source": [
        "import numpy as np \n",
        "import pandas as pd \n",
        "import matplotlib.pyplot as plt \n",
        "recColumn = pd.read_csv(\"recColumnData.csv\")\n",
        "recColumn.head()"
      ],
      "execution_count": null,
      "outputs": [
        {
          "output_type": "execute_result",
          "data": {
            "text/html": [
              "<div>\n",
              "<style scoped>\n",
              "    .dataframe tbody tr th:only-of-type {\n",
              "        vertical-align: middle;\n",
              "    }\n",
              "\n",
              "    .dataframe tbody tr th {\n",
              "        vertical-align: top;\n",
              "    }\n",
              "\n",
              "    .dataframe thead th {\n",
              "        text-align: right;\n",
              "    }\n",
              "</style>\n",
              "<table border=\"1\" class=\"dataframe\">\n",
              "  <thead>\n",
              "    <tr style=\"text-align: right;\">\n",
              "      <th></th>\n",
              "      <th>ALF</th>\n",
              "      <th>AS</th>\n",
              "      <th>LRII</th>\n",
              "      <th>LRIC</th>\n",
              "      <th>Rho</th>\n",
              "      <th>CT</th>\n",
              "      <th>C</th>\n",
              "      <th>CRPa</th>\n",
              "      <th>CRPe</th>\n",
              "      <th>DLI</th>\n",
              "      <th>DLC</th>\n",
              "      <th>TRI</th>\n",
              "      <th>Failure</th>\n",
              "    </tr>\n",
              "  </thead>\n",
              "  <tbody>\n",
              "    <tr>\n",
              "      <th>0</th>\n",
              "      <td>0.259740</td>\n",
              "      <td>2.181818</td>\n",
              "      <td>0.097150</td>\n",
              "      <td>0.1943</td>\n",
              "      <td>0.0179</td>\n",
              "      <td>7</td>\n",
              "      <td>DE</td>\n",
              "      <td>0.072727</td>\n",
              "      <td>0.072727</td>\n",
              "      <td>1.694933</td>\n",
              "      <td>1.694933</td>\n",
              "      <td>0.367347</td>\n",
              "      <td>Flexure</td>\n",
              "    </tr>\n",
              "    <tr>\n",
              "      <th>1</th>\n",
              "      <td>0.213998</td>\n",
              "      <td>2.181818</td>\n",
              "      <td>0.054207</td>\n",
              "      <td>0.1084</td>\n",
              "      <td>0.0179</td>\n",
              "      <td>7</td>\n",
              "      <td>DE</td>\n",
              "      <td>0.069091</td>\n",
              "      <td>0.069091</td>\n",
              "      <td>1.694933</td>\n",
              "      <td>1.694933</td>\n",
              "      <td>0.334973</td>\n",
              "      <td>Flexure</td>\n",
              "    </tr>\n",
              "    <tr>\n",
              "      <th>2</th>\n",
              "      <td>0.420020</td>\n",
              "      <td>2.181818</td>\n",
              "      <td>0.104867</td>\n",
              "      <td>0.2097</td>\n",
              "      <td>0.0179</td>\n",
              "      <td>4</td>\n",
              "      <td>DE</td>\n",
              "      <td>0.072727</td>\n",
              "      <td>0.072727</td>\n",
              "      <td>1.694933</td>\n",
              "      <td>1.694933</td>\n",
              "      <td>0.422964</td>\n",
              "      <td>Flexure</td>\n",
              "    </tr>\n",
              "    <tr>\n",
              "      <th>3</th>\n",
              "      <td>0.599965</td>\n",
              "      <td>2.181818</td>\n",
              "      <td>0.095496</td>\n",
              "      <td>0.1910</td>\n",
              "      <td>0.0179</td>\n",
              "      <td>4</td>\n",
              "      <td>DE</td>\n",
              "      <td>0.069091</td>\n",
              "      <td>0.069091</td>\n",
              "      <td>1.694933</td>\n",
              "      <td>1.694933</td>\n",
              "      <td>0.664159</td>\n",
              "      <td>Flexure</td>\n",
              "    </tr>\n",
              "    <tr>\n",
              "      <th>4</th>\n",
              "      <td>0.380032</td>\n",
              "      <td>4.000000</td>\n",
              "      <td>0.090983</td>\n",
              "      <td>0.1820</td>\n",
              "      <td>0.0151</td>\n",
              "      <td>4</td>\n",
              "      <td>DE</td>\n",
              "      <td>0.061250</td>\n",
              "      <td>0.061250</td>\n",
              "      <td>1.569087</td>\n",
              "      <td>1.569087</td>\n",
              "      <td>0.613656</td>\n",
              "      <td>Flexure</td>\n",
              "    </tr>\n",
              "  </tbody>\n",
              "</table>\n",
              "</div>"
            ],
            "text/plain": [
              "        ALF        AS      LRII    LRIC     Rho  CT   C      CRPa      CRPe  \\\n",
              "0  0.259740  2.181818  0.097150  0.1943  0.0179   7  DE  0.072727  0.072727   \n",
              "1  0.213998  2.181818  0.054207  0.1084  0.0179   7  DE  0.069091  0.069091   \n",
              "2  0.420020  2.181818  0.104867  0.2097  0.0179   4  DE  0.072727  0.072727   \n",
              "3  0.599965  2.181818  0.095496  0.1910  0.0179   4  DE  0.069091  0.069091   \n",
              "4  0.380032  4.000000  0.090983  0.1820  0.0151   4  DE  0.061250  0.061250   \n",
              "\n",
              "        DLI       DLC       TRI  Failure  \n",
              "0  1.694933  1.694933  0.367347  Flexure  \n",
              "1  1.694933  1.694933  0.334973  Flexure  \n",
              "2  1.694933  1.694933  0.422964  Flexure  \n",
              "3  1.694933  1.694933  0.664159  Flexure  \n",
              "4  1.569087  1.569087  0.613656  Flexure  "
            ]
          },
          "metadata": {
            "tags": []
          },
          "execution_count": 2
        }
      ]
    },
    {
      "cell_type": "code",
      "metadata": {
        "id": "lZQ0to5VnolY",
        "outputId": "b286c6e8-b3fa-4b0a-c632-47be589a8f84"
      },
      "source": [
        "import matplotlib.pyplot as plt \n",
        "Whole_fig = recColumn.hist(bins = 10, figsize = (18,12), grid = False)\n",
        "plt.savefig('Whole_fig.png')"
      ],
      "execution_count": null,
      "outputs": [
        {
          "output_type": "display_data",
          "data": {
            "image/png": "[encoded data removed]",
            "text/plain": [
              "<Figure size 1296x864 with 12 Axes>"
            ]
          },
          "metadata": {
            "tags": [],
            "needs_background": "light"
          }
        }
      ]
    },
    {
      "cell_type": "code",
      "metadata": {
        "id": "KlIm_-oBnola",
        "outputId": "132456a8-7fec-43f9-e457-952eac57bb3c"
      },
      "source": [
        "recColumn.isna().sum()"
      ],
      "execution_count": null,
      "outputs": [
        {
          "output_type": "execute_result",
          "data": {
            "text/plain": [
              "ALF        0\n",
              "AS         0\n",
              "LRII       0\n",
              "LRIC       0\n",
              "Rho        0\n",
              "CT         0\n",
              "C          0\n",
              "CRPa       0\n",
              "CRPe       0\n",
              "DLI        0\n",
              "DLC        0\n",
              "TRI        0\n",
              "Failure    0\n",
              "dtype: int64"
            ]
          },
          "metadata": {
            "tags": []
          },
          "execution_count": 7
        }
      ]
    },
    {
      "cell_type": "code",
      "metadata": {
        "id": "zu0Jc6Eanolb",
        "outputId": "e5203f7d-6299-44cf-efe3-00600c235189"
      },
      "source": [
        "C_fig= pd.DataFrame(recColumn.C.value_counts())\n",
        "C_fig\n",
        "C_fig.plot(kind = 'bar', grid = False)\n",
        "plt.xlabel('C')\n",
        "plt.ylabel('Frequency')\n",
        "plt.savefig('C.png')"
      ],
      "execution_count": null,
      "outputs": [
        {
          "output_type": "display_data",
          "data": {
            "image/png": "[encoded data removed]",
            "text/plain": [
              "<Figure size 432x288 with 1 Axes>"
            ]
          },
          "metadata": {
            "tags": [],
            "needs_background": "light"
          }
        }
      ]
    },
    {
      "cell_type": "code",
      "metadata": {
        "id": "ICy5dI33nolb",
        "outputId": "070a6d99-ad7f-4c51-d37f-b948b4bc9efc"
      },
      "source": [
        "recColumn.shape"
      ],
      "execution_count": null,
      "outputs": [
        {
          "output_type": "execute_result",
          "data": {
            "text/plain": [
              "(243, 13)"
            ]
          },
          "metadata": {
            "tags": []
          },
          "execution_count": 4
        }
      ]
    },
    {
      "cell_type": "code",
      "metadata": {
        "id": "65ooTN-Mnolc",
        "outputId": "01850aaf-6c94-48e2-f44c-22f94cebad4c"
      },
      "source": [
        "fa = pd.DataFrame(recColumn.Failure.value_counts())\n",
        "fa"
      ],
      "execution_count": null,
      "outputs": [
        {
          "output_type": "execute_result",
          "data": {
            "text/html": [
              "<div>\n",
              "<style scoped>\n",
              "    .dataframe tbody tr th:only-of-type {\n",
              "        vertical-align: middle;\n",
              "    }\n",
              "\n",
              "    .dataframe tbody tr th {\n",
              "        vertical-align: top;\n",
              "    }\n",
              "\n",
              "    .dataframe thead th {\n",
              "        text-align: right;\n",
              "    }\n",
              "</style>\n",
              "<table border=\"1\" class=\"dataframe\">\n",
              "  <thead>\n",
              "    <tr style=\"text-align: right;\">\n",
              "      <th></th>\n",
              "      <th>Failure</th>\n",
              "    </tr>\n",
              "  </thead>\n",
              "  <tbody>\n",
              "    <tr>\n",
              "      <th>Flexure</th>\n",
              "      <td>191</td>\n",
              "    </tr>\n",
              "    <tr>\n",
              "      <th>Flexure-shear</th>\n",
              "      <td>34</td>\n",
              "    </tr>\n",
              "    <tr>\n",
              "      <th>Shear</th>\n",
              "      <td>18</td>\n",
              "    </tr>\n",
              "  </tbody>\n",
              "</table>\n",
              "</div>"
            ],
            "text/plain": [
              "               Failure\n",
              "Flexure            191\n",
              "Flexure-shear       34\n",
              "Shear               18"
            ]
          },
          "metadata": {
            "tags": []
          },
          "execution_count": 5
        }
      ]
    },
    {
      "cell_type": "code",
      "metadata": {
        "id": "JeGnEAk0nold",
        "outputId": "e2acce7c-2e09-424d-d87c-58a0cea45bd8"
      },
      "source": [
        "fa1 = pd.DataFrame(recColumn.Failure.value_counts(normalize = True))\n",
        "fa1"
      ],
      "execution_count": null,
      "outputs": [
        {
          "output_type": "execute_result",
          "data": {
            "text/html": [
              "<div>\n",
              "<style scoped>\n",
              "    .dataframe tbody tr th:only-of-type {\n",
              "        vertical-align: middle;\n",
              "    }\n",
              "\n",
              "    .dataframe tbody tr th {\n",
              "        vertical-align: top;\n",
              "    }\n",
              "\n",
              "    .dataframe thead th {\n",
              "        text-align: right;\n",
              "    }\n",
              "</style>\n",
              "<table border=\"1\" class=\"dataframe\">\n",
              "  <thead>\n",
              "    <tr style=\"text-align: right;\">\n",
              "      <th></th>\n",
              "      <th>Failure</th>\n",
              "    </tr>\n",
              "  </thead>\n",
              "  <tbody>\n",
              "    <tr>\n",
              "      <th>Flexure</th>\n",
              "      <td>0.786008</td>\n",
              "    </tr>\n",
              "    <tr>\n",
              "      <th>Flexure-shear</th>\n",
              "      <td>0.139918</td>\n",
              "    </tr>\n",
              "    <tr>\n",
              "      <th>Shear</th>\n",
              "      <td>0.074074</td>\n",
              "    </tr>\n",
              "  </tbody>\n",
              "</table>\n",
              "</div>"
            ],
            "text/plain": [
              "                Failure\n",
              "Flexure        0.786008\n",
              "Flexure-shear  0.139918\n",
              "Shear          0.074074"
            ]
          },
          "metadata": {
            "tags": []
          },
          "execution_count": 6
        }
      ]
    },
    {
      "cell_type": "code",
      "metadata": {
        "id": "OdEaZj14nole",
        "outputId": "2b59174d-bee5-46e1-90f7-263859366ca9"
      },
      "source": [
        "fa1.plot(kind = 'pie', figsize = (6,6), subplots = True, autopct = '%1.1f%%')\n",
        "plt.savefig('fa1.png')"
      ],
      "execution_count": null,
      "outputs": [
        {
          "output_type": "display_data",
          "data": {
            "image/png": "[encoded data removed]",
            "text/plain": [
              "<Figure size 432x432 with 1 Axes>"
            ]
          },
          "metadata": {
            "tags": []
          }
        }
      ]
    },
    {
      "cell_type": "code",
      "metadata": {
        "id": "q_9H2yxDnole",
        "outputId": "2c37c73a-93ad-45be-b1a1-cad006e9af09"
      },
      "source": [
        "!pip install imbalanced-learn "
      ],
      "execution_count": null,
      "outputs": [
        {
          "output_type": "stream",
          "text": [
            "Requirement already satisfied: imbalanced-learn in c:\\users\\godfred\\anaconda3\\lib\\site-packages (0.8.0)\n",
            "Requirement already satisfied: scikit-learn>=0.24 in c:\\users\\godfred\\anaconda3\\lib\\site-packages (from imbalanced-learn) (0.24.2)\n",
            "Requirement already satisfied: numpy>=1.13.3 in c:\\users\\godfred\\anaconda3\\lib\\site-packages (from imbalanced-learn) (1.16.4)\n",
            "Requirement already satisfied: scipy>=0.19.1 in c:\\users\\godfred\\anaconda3\\lib\\site-packages (from imbalanced-learn) (1.2.1)\n",
            "Requirement already satisfied: joblib>=0.11 in c:\\users\\godfred\\anaconda3\\lib\\site-packages (from imbalanced-learn) (0.13.2)\n",
            "Requirement already satisfied: threadpoolctl>=2.0.0 in c:\\users\\godfred\\anaconda3\\lib\\site-packages (from scikit-learn>=0.24->imbalanced-learn) (2.2.0)\n"
          ],
          "name": "stdout"
        }
      ]
    },
    {
      "cell_type": "code",
      "metadata": {
        "id": "ADq_JHctnolg",
        "outputId": "7315e45c-c297-46d4-c758-58c02c9fd88f"
      },
      "source": [
        "X = recColumn.drop('Failure', axis =1)\n",
        "y = recColumn['Failure']\n",
        "print(y.head())\n",
        "print(X.head())"
      ],
      "execution_count": null,
      "outputs": [
        {
          "output_type": "stream",
          "text": [
            "0    Flexure\n",
            "1    Flexure\n",
            "2    Flexure\n",
            "3    Flexure\n",
            "4    Flexure\n",
            "Name: Failure, dtype: object\n",
            "        ALF        AS      LRII    LRIC     Rho  CT   C      CRPa      CRPe  \\\n",
            "0  0.259740  2.181818  0.097150  0.1943  0.0179   7  DE  0.072727  0.072727   \n",
            "1  0.213998  2.181818  0.054207  0.1084  0.0179   7  DE  0.069091  0.069091   \n",
            "2  0.420020  2.181818  0.104867  0.2097  0.0179   4  DE  0.072727  0.072727   \n",
            "3  0.599965  2.181818  0.095496  0.1910  0.0179   4  DE  0.069091  0.069091   \n",
            "4  0.380032  4.000000  0.090983  0.1820  0.0151   4  DE  0.061250  0.061250   \n",
            "\n",
            "        DLI       DLC       TRI  \n",
            "0  1.694933  1.694933  0.367347  \n",
            "1  1.694933  1.694933  0.334973  \n",
            "2  1.694933  1.694933  0.422964  \n",
            "3  1.694933  1.694933  0.664159  \n",
            "4  1.569087  1.569087  0.613656  \n"
          ],
          "name": "stdout"
        }
      ]
    },
    {
      "cell_type": "code",
      "metadata": {
        "id": "oiH_wTownolh",
        "outputId": "99c26bde-9d05-46f0-d1e1-655762c03ceb"
      },
      "source": [
        "from sklearn.preprocessing import LabelEncoder \n",
        "Failure_n = LabelEncoder()\n",
        "y= Failure_n.fit_transform(y)\n",
        "y"
      ],
      "execution_count": null,
      "outputs": [
        {
          "output_type": "execute_result",
          "data": {
            "text/plain": [
              "array([0, 0, 0, 0, 0, 0, 0, 0, 0, 0, 0, 0, 0, 0, 0, 0, 0, 0, 0, 0, 0, 0,\n",
              "       0, 0, 0, 0, 2, 1, 0, 0, 0, 1, 1, 1, 1, 1, 2, 2, 2, 2, 1, 0, 1, 1,\n",
              "       1, 1, 0, 0, 0, 0, 0, 0, 2, 2, 0, 0, 0, 0, 0, 0, 0, 0, 1, 1, 0, 0,\n",
              "       0, 0, 0, 0, 0, 1, 1, 1, 1, 1, 1, 1, 2, 1, 1, 1, 1, 1, 1, 1, 0, 0,\n",
              "       0, 0, 0, 0, 0, 0, 0, 0, 2, 2, 2, 2, 0, 0, 0, 0, 0, 0, 0, 0, 0, 0,\n",
              "       0, 0, 0, 0, 0, 0, 0, 0, 0, 0, 0, 0, 0, 0, 0, 0, 0, 0, 0, 0, 0, 0,\n",
              "       0, 0, 0, 2, 1, 1, 2, 2, 2, 1, 1, 0, 0, 0, 0, 0, 0, 0, 0, 0, 0, 0,\n",
              "       0, 0, 0, 0, 0, 0, 0, 0, 0, 0, 0, 0, 0, 0, 0, 0, 0, 0, 0, 0, 0, 0,\n",
              "       0, 0, 0, 0, 0, 0, 0, 0, 0, 0, 0, 0, 2, 2, 0, 0, 0, 0, 0, 0, 0, 0,\n",
              "       0, 0, 0, 1, 1, 1, 0, 0, 0, 0, 0, 0, 0, 0, 0, 0, 0, 0, 0, 0, 0, 0,\n",
              "       0, 0, 0, 0, 0, 0, 0, 0, 0, 0, 0, 0, 0, 0, 0, 0, 0, 0, 0, 0, 0, 0,\n",
              "       0], dtype=int64)"
            ]
          },
          "metadata": {
            "tags": []
          },
          "execution_count": 23
        }
      ]
    },
    {
      "cell_type": "code",
      "metadata": {
        "id": "4po1O_Vtnoli"
      },
      "source": [
        "#y = pd.get_dummies(y)\n",
        "#y.head()"
      ],
      "execution_count": null,
      "outputs": []
    },
    {
      "cell_type": "code",
      "metadata": {
        "id": "YVAUugIAnolj",
        "outputId": "8364d8a2-7e9e-4fdd-d306-62cb3539a516"
      },
      "source": [
        "X = pd.get_dummies(X, drop_first =True)\n",
        "X.head()"
      ],
      "execution_count": null,
      "outputs": [
        {
          "output_type": "execute_result",
          "data": {
            "text/html": [
              "<div>\n",
              "<style scoped>\n",
              "    .dataframe tbody tr th:only-of-type {\n",
              "        vertical-align: middle;\n",
              "    }\n",
              "\n",
              "    .dataframe tbody tr th {\n",
              "        vertical-align: top;\n",
              "    }\n",
              "\n",
              "    .dataframe thead th {\n",
              "        text-align: right;\n",
              "    }\n",
              "</style>\n",
              "<table border=\"1\" class=\"dataframe\">\n",
              "  <thead>\n",
              "    <tr style=\"text-align: right;\">\n",
              "      <th></th>\n",
              "      <th>ALF</th>\n",
              "      <th>AS</th>\n",
              "      <th>LRII</th>\n",
              "      <th>LRIC</th>\n",
              "      <th>Rho</th>\n",
              "      <th>CT</th>\n",
              "      <th>CRPa</th>\n",
              "      <th>CRPe</th>\n",
              "      <th>DLI</th>\n",
              "      <th>DLC</th>\n",
              "      <th>TRI</th>\n",
              "      <th>C_C</th>\n",
              "      <th>C_DC</th>\n",
              "      <th>C_DE</th>\n",
              "    </tr>\n",
              "  </thead>\n",
              "  <tbody>\n",
              "    <tr>\n",
              "      <th>0</th>\n",
              "      <td>0.259740</td>\n",
              "      <td>2.181818</td>\n",
              "      <td>0.097150</td>\n",
              "      <td>0.1943</td>\n",
              "      <td>0.0179</td>\n",
              "      <td>7</td>\n",
              "      <td>0.072727</td>\n",
              "      <td>0.072727</td>\n",
              "      <td>1.694933</td>\n",
              "      <td>1.694933</td>\n",
              "      <td>0.367347</td>\n",
              "      <td>0</td>\n",
              "      <td>0</td>\n",
              "      <td>1</td>\n",
              "    </tr>\n",
              "    <tr>\n",
              "      <th>1</th>\n",
              "      <td>0.213998</td>\n",
              "      <td>2.181818</td>\n",
              "      <td>0.054207</td>\n",
              "      <td>0.1084</td>\n",
              "      <td>0.0179</td>\n",
              "      <td>7</td>\n",
              "      <td>0.069091</td>\n",
              "      <td>0.069091</td>\n",
              "      <td>1.694933</td>\n",
              "      <td>1.694933</td>\n",
              "      <td>0.334973</td>\n",
              "      <td>0</td>\n",
              "      <td>0</td>\n",
              "      <td>1</td>\n",
              "    </tr>\n",
              "    <tr>\n",
              "      <th>2</th>\n",
              "      <td>0.420020</td>\n",
              "      <td>2.181818</td>\n",
              "      <td>0.104867</td>\n",
              "      <td>0.2097</td>\n",
              "      <td>0.0179</td>\n",
              "      <td>4</td>\n",
              "      <td>0.072727</td>\n",
              "      <td>0.072727</td>\n",
              "      <td>1.694933</td>\n",
              "      <td>1.694933</td>\n",
              "      <td>0.422964</td>\n",
              "      <td>0</td>\n",
              "      <td>0</td>\n",
              "      <td>1</td>\n",
              "    </tr>\n",
              "    <tr>\n",
              "      <th>3</th>\n",
              "      <td>0.599965</td>\n",
              "      <td>2.181818</td>\n",
              "      <td>0.095496</td>\n",
              "      <td>0.1910</td>\n",
              "      <td>0.0179</td>\n",
              "      <td>4</td>\n",
              "      <td>0.069091</td>\n",
              "      <td>0.069091</td>\n",
              "      <td>1.694933</td>\n",
              "      <td>1.694933</td>\n",
              "      <td>0.664159</td>\n",
              "      <td>0</td>\n",
              "      <td>0</td>\n",
              "      <td>1</td>\n",
              "    </tr>\n",
              "    <tr>\n",
              "      <th>4</th>\n",
              "      <td>0.380032</td>\n",
              "      <td>4.000000</td>\n",
              "      <td>0.090983</td>\n",
              "      <td>0.1820</td>\n",
              "      <td>0.0151</td>\n",
              "      <td>4</td>\n",
              "      <td>0.061250</td>\n",
              "      <td>0.061250</td>\n",
              "      <td>1.569087</td>\n",
              "      <td>1.569087</td>\n",
              "      <td>0.613656</td>\n",
              "      <td>0</td>\n",
              "      <td>0</td>\n",
              "      <td>1</td>\n",
              "    </tr>\n",
              "  </tbody>\n",
              "</table>\n",
              "</div>"
            ],
            "text/plain": [
              "        ALF        AS      LRII    LRIC     Rho  CT      CRPa      CRPe  \\\n",
              "0  0.259740  2.181818  0.097150  0.1943  0.0179   7  0.072727  0.072727   \n",
              "1  0.213998  2.181818  0.054207  0.1084  0.0179   7  0.069091  0.069091   \n",
              "2  0.420020  2.181818  0.104867  0.2097  0.0179   4  0.072727  0.072727   \n",
              "3  0.599965  2.181818  0.095496  0.1910  0.0179   4  0.069091  0.069091   \n",
              "4  0.380032  4.000000  0.090983  0.1820  0.0151   4  0.061250  0.061250   \n",
              "\n",
              "        DLI       DLC       TRI  C_C  C_DC  C_DE  \n",
              "0  1.694933  1.694933  0.367347    0     0     1  \n",
              "1  1.694933  1.694933  0.334973    0     0     1  \n",
              "2  1.694933  1.694933  0.422964    0     0     1  \n",
              "3  1.694933  1.694933  0.664159    0     0     1  \n",
              "4  1.569087  1.569087  0.613656    0     0     1  "
            ]
          },
          "metadata": {
            "tags": []
          },
          "execution_count": 50
        }
      ]
    },
    {
      "cell_type": "code",
      "metadata": {
        "id": "NeHmVTa_nolj",
        "outputId": "88454d42-2d50-41f8-eef1-3ea1aaf96613"
      },
      "source": [
        "from imblearn.over_sampling import SMOTE\n",
        "sm = SMOTE(random_state = 42)\n",
        "X_sm, y_sm = sm.fit_resample(X,y)\n",
        "print(X.shape)\n",
        "print(X_sm.shape)"
      ],
      "execution_count": null,
      "outputs": [
        {
          "output_type": "stream",
          "text": [
            "(243, 14)\n",
            "(573, 14)\n"
          ],
          "name": "stdout"
        }
      ]
    },
    {
      "cell_type": "code",
      "metadata": {
        "id": "QnlA9u9xnolk"
      },
      "source": [
        "from sklearn.model_selection import train_test_split\n",
        "X_train,X_test,y_train,y_test = train_test_split(X_sm,y_sm, test_size = 0.4, random_state = 42)"
      ],
      "execution_count": null,
      "outputs": []
    },
    {
      "cell_type": "code",
      "metadata": {
        "id": "pN-CMhWwnoll",
        "outputId": "9ad43f82-a2d4-431a-ebb9-0bee55aba02d"
      },
      "source": [
        "print(X_train.shape)\n",
        "print(X_test.shape)\n",
        "print(y_train.shape)\n",
        "print(y_test.shape)"
      ],
      "execution_count": null,
      "outputs": [
        {
          "output_type": "stream",
          "text": [
            "(343, 14)\n",
            "(230, 14)\n",
            "(343,)\n",
            "(230,)\n"
          ],
          "name": "stdout"
        }
      ]
    },
    {
      "cell_type": "code",
      "metadata": {
        "id": "wzxxts-Lnoll"
      },
      "source": [
        "from sklearn.tree import DecisionTreeClassifier\n",
        "rec = DecisionTreeClassifier()\n",
        "recColumn_model = rec.fit(X_train, y_train)"
      ],
      "execution_count": null,
      "outputs": []
    },
    {
      "cell_type": "code",
      "metadata": {
        "id": "IN4-XkM2nolm",
        "outputId": "1e9eb631-9518-4d32-f831-62234c6b2105"
      },
      "source": [
        "plt.figure(figsize = (15,20))\n",
        "tree.plot_tree(recColumn_model,filled = True)"
      ],
      "execution_count": null,
      "outputs": [
        {
          "output_type": "execute_result",
          "data": {
            "text/plain": [
              "[Text(523.125, 951.3000000000001, 'X[1] <= 3.361\\ngini = 0.666\\nsamples = 343\\nvalue = [109, 118, 116]'),\n",
              " Text(418.5, 679.5, 'X[2] <= 0.09\\ngini = 0.627\\nsamples = 282\\nvalue = [48, 118, 116]'),\n",
              " Text(209.25, 407.70000000000005, 'X[3] <= 0.165\\ngini = 0.573\\nsamples = 171\\nvalue = [43, 99, 29]'),\n",
              " Text(104.625, 135.89999999999998, 'gini = 0.231\\nsamples = 30\\nvalue = [26, 4, 0]'),\n",
              " Text(313.875, 135.89999999999998, 'gini = 0.489\\nsamples = 141\\nvalue = [17, 95, 29]'),\n",
              " Text(627.75, 407.70000000000005, 'X[7] <= 0.089\\ngini = 0.354\\nsamples = 111\\nvalue = [5, 19, 87]'),\n",
              " Text(523.125, 135.89999999999998, 'gini = 0.146\\nsamples = 90\\nvalue = [5, 2, 83]'),\n",
              " Text(732.375, 135.89999999999998, 'gini = 0.308\\nsamples = 21\\nvalue = [0, 17, 4]'),\n",
              " Text(627.75, 679.5, 'gini = 0.0\\nsamples = 61\\nvalue = [61, 0, 0]')]"
            ]
          },
          "metadata": {
            "tags": []
          },
          "execution_count": 56
        },
        {
          "output_type": "display_data",
          "data": {
            "image/png": "[encoded data removed]",
            "text/plain": [
              "<Figure size 1080x1440 with 1 Axes>"
            ]
          },
          "metadata": {
            "tags": [],
            "needs_background": "light"
          }
        }
      ]
    },
    {
      "cell_type": "code",
      "metadata": {
        "id": "s1zKPe_snolm",
        "outputId": "fdf2609e-8f8e-4a9a-e61f-22739956cbc5"
      },
      "source": [
        "rec.predict(X_test[:10])"
      ],
      "execution_count": null,
      "outputs": [
        {
          "output_type": "execute_result",
          "data": {
            "text/plain": [
              "array(['Shear', 'Flexure', 'Flexure', 'Shear', 'Shear', 'Flexure-shear',\n",
              "       'Shear', 'Flexure', 'Flexure-shear', 'Flexure-shear'], dtype=object)"
            ]
          },
          "metadata": {
            "tags": []
          },
          "execution_count": 39
        }
      ]
    },
    {
      "cell_type": "code",
      "metadata": {
        "id": "nsHkS8Mtnoln",
        "outputId": "b49d339d-50ff-403a-bb21-e60eb7110c0d"
      },
      "source": [
        "y_test[:10]"
      ],
      "execution_count": null,
      "outputs": [
        {
          "output_type": "execute_result",
          "data": {
            "text/plain": [
              "513            Shear\n",
              "70           Flexure\n",
              "131          Flexure\n",
              "405            Shear\n",
              "544            Shear\n",
              "321    Flexure-shear\n",
              "188            Shear\n",
              "29           Flexure\n",
              "81     Flexure-shear\n",
              "310    Flexure-shear\n",
              "Name: Failure, dtype: object"
            ]
          },
          "metadata": {
            "tags": []
          },
          "execution_count": 40
        }
      ]
    },
    {
      "cell_type": "code",
      "metadata": {
        "id": "KSbHEGOsnoln",
        "outputId": "045c1d42-eea9-439f-f87d-4bb075b05266"
      },
      "source": [
        "rec.predict([[2.5,2,3,4,5,3,4,5,2,1,3,5,6,7]])"
      ],
      "execution_count": null,
      "outputs": [
        {
          "output_type": "execute_result",
          "data": {
            "text/plain": [
              "array(['Flexure-shear'], dtype=object)"
            ]
          },
          "metadata": {
            "tags": []
          },
          "execution_count": 49
        }
      ]
    },
    {
      "cell_type": "code",
      "metadata": {
        "id": "CuPYmffanolo",
        "outputId": "b2eb61e9-1e57-4223-e843-0bc47d4a81ed"
      },
      "source": [
        "rec.score(X_test, y_test)"
      ],
      "execution_count": null,
      "outputs": [
        {
          "output_type": "execute_result",
          "data": {
            "text/plain": [
              "0.9608695652173913"
            ]
          },
          "metadata": {
            "tags": []
          },
          "execution_count": 62
        }
      ]
    },
    {
      "cell_type": "code",
      "metadata": {
        "id": "TKZl_tbBnolo",
        "outputId": "14ffd120-1bc1-4a4b-beec-bad230dc77cb"
      },
      "source": [
        "from sklearn.model_selection import cross_val_score\n",
        "cross_val_score(DecisionTreeClassifier(), X_train, y_train,cv =5)"
      ],
      "execution_count": null,
      "outputs": [
        {
          "output_type": "execute_result",
          "data": {
            "text/plain": [
              "array([0.95652174, 0.94202899, 0.89855072, 0.86764706, 0.89705882])"
            ]
          },
          "metadata": {
            "tags": []
          },
          "execution_count": 68
        }
      ]
    },
    {
      "cell_type": "code",
      "metadata": {
        "id": "-jhC3IPfnolp"
      },
      "source": [
        "from sklearn.svm import SVC\n",
        "from sklearn.ensemble import RandomForestClassifier \n"
      ],
      "execution_count": null,
      "outputs": []
    },
    {
      "cell_type": "code",
      "metadata": {
        "id": "BpGVeHEqnolq"
      },
      "source": [
        "model_params = {\n",
        "    'svm': {'model':\n",
        "        SVC(gamma = 'auto'),\n",
        "        'params':{\n",
        "            'kernel': ['rbf','linear'], \n",
        "            'C': [1,10,20]\n",
        "        }\n",
        "            \n",
        "    },\n",
        "    'Tree': {'model':\n",
        "            DecisionTreeClassifier(),\n",
        "    'params':{\n",
        "        'max_depth':[2,5]\n",
        "    }\n",
        "},        \n",
        "    'Forest': {'model':\n",
        "              RandomForestClassifier(),\n",
        "               'params': {\n",
        "                   'n_estimators': [10,20]\n",
        "               }\n",
        "              \n",
        "              \n",
        "            }\n",
        "    \n",
        "}"
      ],
      "execution_count": null,
      "outputs": []
    },
    {
      "cell_type": "code",
      "metadata": {
        "id": "_OknnNbsnolq",
        "outputId": "b75078ef-2632-4443-a622-e311b00201c2"
      },
      "source": [
        "scores = []\n",
        "import pandas as pd\n",
        "from sklearn.model_selection import GridSearchCV\n",
        "for model_name, mp in model_params.items():\n",
        "    column = GridSearchCV(mp['model'], mp['params'], cv =10,return_train_score = False)\n",
        "    column.fit(X_train, y_train)\n",
        "    scores.append({\n",
        "        'model': model_name,\n",
        "        'best_score': column.best_score_,\n",
        "        'best_params': column.best_params_\n",
        "        \n",
        "    })\n",
        "df = pd.DataFrame(scores, columns = ['model', 'best_score','best_params' ])  \n",
        "df"
      ],
      "execution_count": null,
      "outputs": [
        {
          "output_type": "execute_result",
          "data": {
            "text/html": [
              "<div>\n",
              "<style scoped>\n",
              "    .dataframe tbody tr th:only-of-type {\n",
              "        vertical-align: middle;\n",
              "    }\n",
              "\n",
              "    .dataframe tbody tr th {\n",
              "        vertical-align: top;\n",
              "    }\n",
              "\n",
              "    .dataframe thead th {\n",
              "        text-align: right;\n",
              "    }\n",
              "</style>\n",
              "<table border=\"1\" class=\"dataframe\">\n",
              "  <thead>\n",
              "    <tr style=\"text-align: right;\">\n",
              "      <th></th>\n",
              "      <th>model</th>\n",
              "      <th>best_score</th>\n",
              "      <th>best_params</th>\n",
              "    </tr>\n",
              "  </thead>\n",
              "  <tbody>\n",
              "    <tr>\n",
              "      <th>0</th>\n",
              "      <td>svm</td>\n",
              "      <td>0.897395</td>\n",
              "      <td>{'C': 20, 'kernel': 'rbf'}</td>\n",
              "    </tr>\n",
              "    <tr>\n",
              "      <th>1</th>\n",
              "      <td>Tree</td>\n",
              "      <td>0.845378</td>\n",
              "      <td>{'max_depth': 5}</td>\n",
              "    </tr>\n",
              "    <tr>\n",
              "      <th>2</th>\n",
              "      <td>Forest</td>\n",
              "      <td>0.982437</td>\n",
              "      <td>{'n_estimators': 20}</td>\n",
              "    </tr>\n",
              "  </tbody>\n",
              "</table>\n",
              "</div>"
            ],
            "text/plain": [
              "    model  best_score                 best_params\n",
              "0     svm    0.897395  {'C': 20, 'kernel': 'rbf'}\n",
              "1    Tree    0.845378            {'max_depth': 5}\n",
              "2  Forest    0.982437        {'n_estimators': 20}"
            ]
          },
          "metadata": {
            "tags": []
          },
          "execution_count": 90
        }
      ]
    },
    {
      "cell_type": "code",
      "metadata": {
        "id": "Hl2RB8ounolq"
      },
      "source": [
        ""
      ],
      "execution_count": null,
      "outputs": []
    }
  ]
}