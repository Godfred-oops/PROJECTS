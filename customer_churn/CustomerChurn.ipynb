{
 "cells": [
  {
   "cell_type": "code",
   "execution_count": 1,
   "metadata": {},
   "outputs": [],
   "source": [
    "import pandas as pd\n",
    "import numpy as np \n",
    "import matplotlib.pyplot as plt\n",
    "%matplotlib inline"
   ]
  },
  {
   "cell_type": "code",
   "execution_count": 2,
   "metadata": {},
   "outputs": [
    {
     "data": {
      "text/html": [
       "<div>\n",
       "<style scoped>\n",
       "    .dataframe tbody tr th:only-of-type {\n",
       "        vertical-align: middle;\n",
       "    }\n",
       "\n",
       "    .dataframe tbody tr th {\n",
       "        vertical-align: top;\n",
       "    }\n",
       "\n",
       "    .dataframe thead th {\n",
       "        text-align: right;\n",
       "    }\n",
       "</style>\n",
       "<table border=\"1\" class=\"dataframe\">\n",
       "  <thead>\n",
       "    <tr style=\"text-align: right;\">\n",
       "      <th></th>\n",
       "      <th>customerID</th>\n",
       "      <th>gender</th>\n",
       "      <th>SeniorCitizen</th>\n",
       "      <th>Partner</th>\n",
       "      <th>Dependents</th>\n",
       "      <th>tenure</th>\n",
       "      <th>PhoneService</th>\n",
       "      <th>MultipleLines</th>\n",
       "      <th>InternetService</th>\n",
       "      <th>OnlineSecurity</th>\n",
       "      <th>...</th>\n",
       "      <th>DeviceProtection</th>\n",
       "      <th>TechSupport</th>\n",
       "      <th>StreamingTV</th>\n",
       "      <th>StreamingMovies</th>\n",
       "      <th>Contract</th>\n",
       "      <th>PaperlessBilling</th>\n",
       "      <th>PaymentMethod</th>\n",
       "      <th>MonthlyCharges</th>\n",
       "      <th>TotalCharges</th>\n",
       "      <th>Churn</th>\n",
       "    </tr>\n",
       "  </thead>\n",
       "  <tbody>\n",
       "    <tr>\n",
       "      <th>0</th>\n",
       "      <td>7590-VHVEG</td>\n",
       "      <td>Female</td>\n",
       "      <td>0</td>\n",
       "      <td>Yes</td>\n",
       "      <td>No</td>\n",
       "      <td>1</td>\n",
       "      <td>No</td>\n",
       "      <td>No phone service</td>\n",
       "      <td>DSL</td>\n",
       "      <td>No</td>\n",
       "      <td>...</td>\n",
       "      <td>No</td>\n",
       "      <td>No</td>\n",
       "      <td>No</td>\n",
       "      <td>No</td>\n",
       "      <td>Month-to-month</td>\n",
       "      <td>Yes</td>\n",
       "      <td>Electronic check</td>\n",
       "      <td>29.85</td>\n",
       "      <td>29.85</td>\n",
       "      <td>No</td>\n",
       "    </tr>\n",
       "    <tr>\n",
       "      <th>1</th>\n",
       "      <td>5575-GNVDE</td>\n",
       "      <td>Male</td>\n",
       "      <td>0</td>\n",
       "      <td>No</td>\n",
       "      <td>No</td>\n",
       "      <td>34</td>\n",
       "      <td>Yes</td>\n",
       "      <td>No</td>\n",
       "      <td>DSL</td>\n",
       "      <td>Yes</td>\n",
       "      <td>...</td>\n",
       "      <td>Yes</td>\n",
       "      <td>No</td>\n",
       "      <td>No</td>\n",
       "      <td>No</td>\n",
       "      <td>One year</td>\n",
       "      <td>No</td>\n",
       "      <td>Mailed check</td>\n",
       "      <td>56.95</td>\n",
       "      <td>1889.5</td>\n",
       "      <td>No</td>\n",
       "    </tr>\n",
       "    <tr>\n",
       "      <th>2</th>\n",
       "      <td>3668-QPYBK</td>\n",
       "      <td>Male</td>\n",
       "      <td>0</td>\n",
       "      <td>No</td>\n",
       "      <td>No</td>\n",
       "      <td>2</td>\n",
       "      <td>Yes</td>\n",
       "      <td>No</td>\n",
       "      <td>DSL</td>\n",
       "      <td>Yes</td>\n",
       "      <td>...</td>\n",
       "      <td>No</td>\n",
       "      <td>No</td>\n",
       "      <td>No</td>\n",
       "      <td>No</td>\n",
       "      <td>Month-to-month</td>\n",
       "      <td>Yes</td>\n",
       "      <td>Mailed check</td>\n",
       "      <td>53.85</td>\n",
       "      <td>108.15</td>\n",
       "      <td>Yes</td>\n",
       "    </tr>\n",
       "    <tr>\n",
       "      <th>3</th>\n",
       "      <td>7795-CFOCW</td>\n",
       "      <td>Male</td>\n",
       "      <td>0</td>\n",
       "      <td>No</td>\n",
       "      <td>No</td>\n",
       "      <td>45</td>\n",
       "      <td>No</td>\n",
       "      <td>No phone service</td>\n",
       "      <td>DSL</td>\n",
       "      <td>Yes</td>\n",
       "      <td>...</td>\n",
       "      <td>Yes</td>\n",
       "      <td>Yes</td>\n",
       "      <td>No</td>\n",
       "      <td>No</td>\n",
       "      <td>One year</td>\n",
       "      <td>No</td>\n",
       "      <td>Bank transfer (automatic)</td>\n",
       "      <td>42.30</td>\n",
       "      <td>1840.75</td>\n",
       "      <td>No</td>\n",
       "    </tr>\n",
       "    <tr>\n",
       "      <th>4</th>\n",
       "      <td>9237-HQITU</td>\n",
       "      <td>Female</td>\n",
       "      <td>0</td>\n",
       "      <td>No</td>\n",
       "      <td>No</td>\n",
       "      <td>2</td>\n",
       "      <td>Yes</td>\n",
       "      <td>No</td>\n",
       "      <td>Fiber optic</td>\n",
       "      <td>No</td>\n",
       "      <td>...</td>\n",
       "      <td>No</td>\n",
       "      <td>No</td>\n",
       "      <td>No</td>\n",
       "      <td>No</td>\n",
       "      <td>Month-to-month</td>\n",
       "      <td>Yes</td>\n",
       "      <td>Electronic check</td>\n",
       "      <td>70.70</td>\n",
       "      <td>151.65</td>\n",
       "      <td>Yes</td>\n",
       "    </tr>\n",
       "  </tbody>\n",
       "</table>\n",
       "<p>5 rows × 21 columns</p>\n",
       "</div>"
      ],
      "text/plain": [
       "   customerID  gender  SeniorCitizen Partner Dependents  tenure PhoneService  \\\n",
       "0  7590-VHVEG  Female              0     Yes         No       1           No   \n",
       "1  5575-GNVDE    Male              0      No         No      34          Yes   \n",
       "2  3668-QPYBK    Male              0      No         No       2          Yes   \n",
       "3  7795-CFOCW    Male              0      No         No      45           No   \n",
       "4  9237-HQITU  Female              0      No         No       2          Yes   \n",
       "\n",
       "      MultipleLines InternetService OnlineSecurity  ... DeviceProtection  \\\n",
       "0  No phone service             DSL             No  ...               No   \n",
       "1                No             DSL            Yes  ...              Yes   \n",
       "2                No             DSL            Yes  ...               No   \n",
       "3  No phone service             DSL            Yes  ...              Yes   \n",
       "4                No     Fiber optic             No  ...               No   \n",
       "\n",
       "  TechSupport StreamingTV StreamingMovies        Contract PaperlessBilling  \\\n",
       "0          No          No              No  Month-to-month              Yes   \n",
       "1          No          No              No        One year               No   \n",
       "2          No          No              No  Month-to-month              Yes   \n",
       "3         Yes          No              No        One year               No   \n",
       "4          No          No              No  Month-to-month              Yes   \n",
       "\n",
       "               PaymentMethod MonthlyCharges  TotalCharges Churn  \n",
       "0           Electronic check          29.85         29.85    No  \n",
       "1               Mailed check          56.95        1889.5    No  \n",
       "2               Mailed check          53.85        108.15   Yes  \n",
       "3  Bank transfer (automatic)          42.30       1840.75    No  \n",
       "4           Electronic check          70.70        151.65   Yes  \n",
       "\n",
       "[5 rows x 21 columns]"
      ]
     },
     "execution_count": 2,
     "metadata": {},
     "output_type": "execute_result"
    }
   ],
   "source": [
    "df = pd.read_csv('Customer-Churn.csv')\n",
    "df.head()"
   ]
  },
  {
   "cell_type": "code",
   "execution_count": 3,
   "metadata": {},
   "outputs": [],
   "source": [
    "df.drop('customerID', axis = 'columns', inplace = True)"
   ]
  },
  {
   "cell_type": "code",
   "execution_count": 4,
   "metadata": {},
   "outputs": [
    {
     "data": {
      "text/plain": [
       "(7043, 20)"
      ]
     },
     "execution_count": 4,
     "metadata": {},
     "output_type": "execute_result"
    }
   ],
   "source": [
    "df.shape"
   ]
  },
  {
   "cell_type": "code",
   "execution_count": 5,
   "metadata": {},
   "outputs": [
    {
     "data": {
      "text/plain": [
       "<matplotlib.legend.Legend at 0x20a47c11a90>"
      ]
     },
     "execution_count": 5,
     "metadata": {},
     "output_type": "execute_result"
    },
    {
     "data": {
      "image/png": "[encoded data removed]",
      "text/plain": [
       "<Figure size 432x288 with 1 Axes>"
      ]
     },
     "metadata": {
      "needs_background": "light"
     },
     "output_type": "display_data"
    }
   ],
   "source": [
    "Total_charges_no_churn = df[df['Churn'] == 'No'].TotalCharges\n",
    "Total_charges_yes_churn = df[df['Churn'] == 'Yes'].TotalCharges\n",
    "plt.xlabel('Total Charges')\n",
    "plt.ylabel('Number of customers')\n",
    "\n",
    "plt.hist([Total_charges_no_churn,Total_charges_yes_churn], color = ['red','green'],  label =\n",
    "        ['Churn = No', 'Churn = Yes'])\n",
    "plt.legend()"
   ]
  },
  {
   "cell_type": "code",
   "execution_count": 6,
   "metadata": {},
   "outputs": [
    {
     "data": {
      "text/plain": [
       "gender               object\n",
       "SeniorCitizen         int64\n",
       "Partner              object\n",
       "Dependents           object\n",
       "tenure                int64\n",
       "PhoneService         object\n",
       "MultipleLines        object\n",
       "InternetService      object\n",
       "OnlineSecurity       object\n",
       "OnlineBackup         object\n",
       "DeviceProtection     object\n",
       "TechSupport          object\n",
       "StreamingTV          object\n",
       "StreamingMovies      object\n",
       "Contract             object\n",
       "PaperlessBilling     object\n",
       "PaymentMethod        object\n",
       "MonthlyCharges      float64\n",
       "TotalCharges         object\n",
       "Churn                object\n",
       "dtype: object"
      ]
     },
     "execution_count": 6,
     "metadata": {},
     "output_type": "execute_result"
    }
   ],
   "source": [
    "df.dtypes"
   ]
  },
  {
   "cell_type": "code",
   "execution_count": 7,
   "metadata": {},
   "outputs": [
    {
     "data": {
      "text/plain": [
       "0"
      ]
     },
     "execution_count": 7,
     "metadata": {},
     "output_type": "execute_result"
    }
   ],
   "source": [
    "df['TotalCharges'].isna().sum()"
   ]
  },
  {
   "cell_type": "code",
   "execution_count": 8,
   "metadata": {},
   "outputs": [
    {
     "data": {
      "text/plain": [
       "array([ 29.85,  56.95,  53.85, ...,  29.6 ,  74.4 , 105.65])"
      ]
     },
     "execution_count": 8,
     "metadata": {},
     "output_type": "execute_result"
    }
   ],
   "source": [
    "df['MonthlyCharges'].values"
   ]
  },
  {
   "cell_type": "code",
   "execution_count": 9,
   "metadata": {},
   "outputs": [
    {
     "data": {
      "text/plain": [
       "array(['29.85', '1889.5', '108.15', ..., '346.45', '306.6', '6844.5'],\n",
       "      dtype=object)"
      ]
     },
     "execution_count": 9,
     "metadata": {},
     "output_type": "execute_result"
    }
   ],
   "source": [
    "df['TotalCharges'].values\n"
   ]
  },
  {
   "cell_type": "code",
   "execution_count": 10,
   "metadata": {},
   "outputs": [
    {
     "data": {
      "text/plain": [
       "(7043,)"
      ]
     },
     "execution_count": 10,
     "metadata": {},
     "output_type": "execute_result"
    }
   ],
   "source": [
    "pd.to_numeric(df['TotalCharges'], errors = 'coerce').isnull().shape"
   ]
  },
  {
   "cell_type": "code",
   "execution_count": 11,
   "metadata": {},
   "outputs": [
    {
     "data": {
      "text/plain": [
       "(11, 20)"
      ]
     },
     "execution_count": 11,
     "metadata": {},
     "output_type": "execute_result"
    }
   ],
   "source": [
    "df1 = df[pd.to_numeric(df['TotalCharges'], errors = 'coerce').isnull()]\n",
    "df1.shape"
   ]
  },
  {
   "cell_type": "code",
   "execution_count": 12,
   "metadata": {},
   "outputs": [
    {
     "data": {
      "text/plain": [
       "(7032, 20)"
      ]
     },
     "execution_count": 12,
     "metadata": {},
     "output_type": "execute_result"
    }
   ],
   "source": [
    "df2 = df[df['TotalCharges'] != ' ' ]\n",
    "df2.shape"
   ]
  },
  {
   "cell_type": "code",
   "execution_count": 13,
   "metadata": {},
   "outputs": [
    {
     "name": "stderr",
     "output_type": "stream",
     "text": [
      "C:\\Users\\Godfred\\Anaconda3\\lib\\site-packages\\ipykernel_launcher.py:1: SettingWithCopyWarning: \n",
      "A value is trying to be set on a copy of a slice from a DataFrame.\n",
      "Try using .loc[row_indexer,col_indexer] = value instead\n",
      "\n",
      "See the caveats in the documentation: http://pandas.pydata.org/pandas-docs/stable/indexing.html#indexing-view-versus-copy\n",
      "  \"\"\"Entry point for launching an IPython kernel.\n"
     ]
    }
   ],
   "source": [
    "df2['TotalCharges'] = pd.to_numeric(df2['TotalCharges'])"
   ]
  },
  {
   "cell_type": "code",
   "execution_count": 14,
   "metadata": {},
   "outputs": [
    {
     "data": {
      "text/plain": [
       "gender               object\n",
       "SeniorCitizen         int64\n",
       "Partner              object\n",
       "Dependents           object\n",
       "tenure                int64\n",
       "PhoneService         object\n",
       "MultipleLines        object\n",
       "InternetService      object\n",
       "OnlineSecurity       object\n",
       "OnlineBackup         object\n",
       "DeviceProtection     object\n",
       "TechSupport          object\n",
       "StreamingTV          object\n",
       "StreamingMovies      object\n",
       "Contract             object\n",
       "PaperlessBilling     object\n",
       "PaymentMethod        object\n",
       "MonthlyCharges      float64\n",
       "TotalCharges        float64\n",
       "Churn                object\n",
       "dtype: object"
      ]
     },
     "execution_count": 14,
     "metadata": {},
     "output_type": "execute_result"
    }
   ],
   "source": [
    "df2.dtypes"
   ]
  },
  {
   "cell_type": "code",
   "execution_count": 15,
   "metadata": {},
   "outputs": [],
   "source": [
    "def get_column(dataframe):\n",
    "    for column in df2:\n",
    "            if df2[column].dtypes == 'object':\n",
    "                print(f'{column}: {df2[column].unique()}')\n",
    "    "
   ]
  },
  {
   "cell_type": "code",
   "execution_count": 16,
   "metadata": {},
   "outputs": [
    {
     "name": "stdout",
     "output_type": "stream",
     "text": [
      "gender: ['Female' 'Male']\n",
      "Partner: ['Yes' 'No']\n",
      "Dependents: ['No' 'Yes']\n",
      "PhoneService: ['No' 'Yes']\n",
      "MultipleLines: ['No phone service' 'No' 'Yes']\n",
      "InternetService: ['DSL' 'Fiber optic' 'No']\n",
      "OnlineSecurity: ['No' 'Yes' 'No internet service']\n",
      "OnlineBackup: ['Yes' 'No' 'No internet service']\n",
      "DeviceProtection: ['No' 'Yes' 'No internet service']\n",
      "TechSupport: ['No' 'Yes' 'No internet service']\n",
      "StreamingTV: ['No' 'Yes' 'No internet service']\n",
      "StreamingMovies: ['No' 'Yes' 'No internet service']\n",
      "Contract: ['Month-to-month' 'One year' 'Two year']\n",
      "PaperlessBilling: ['Yes' 'No']\n",
      "PaymentMethod: ['Electronic check' 'Mailed check' 'Bank transfer (automatic)'\n",
      " 'Credit card (automatic)']\n",
      "Churn: ['No' 'Yes']\n"
     ]
    }
   ],
   "source": [
    "get_column(df)"
   ]
  },
  {
   "cell_type": "code",
   "execution_count": 17,
   "metadata": {},
   "outputs": [
    {
     "name": "stderr",
     "output_type": "stream",
     "text": [
      "C:\\Users\\Godfred\\Anaconda3\\lib\\site-packages\\pandas\\core\\frame.py:4042: SettingWithCopyWarning: \n",
      "A value is trying to be set on a copy of a slice from a DataFrame\n",
      "\n",
      "See the caveats in the documentation: http://pandas.pydata.org/pandas-docs/stable/indexing.html#indexing-view-versus-copy\n",
      "  method=method)\n"
     ]
    }
   ],
   "source": [
    "df2.replace('No phone service', 'No', inplace = True)\n",
    "df2.replace('No internet service', 'No', inplace = True)"
   ]
  },
  {
   "cell_type": "code",
   "execution_count": 18,
   "metadata": {},
   "outputs": [
    {
     "name": "stdout",
     "output_type": "stream",
     "text": [
      "gender: ['Female' 'Male']\n",
      "Partner: ['Yes' 'No']\n",
      "Dependents: ['No' 'Yes']\n",
      "PhoneService: ['No' 'Yes']\n",
      "MultipleLines: ['No' 'Yes']\n",
      "InternetService: ['DSL' 'Fiber optic' 'No']\n",
      "OnlineSecurity: ['No' 'Yes']\n",
      "OnlineBackup: ['Yes' 'No']\n",
      "DeviceProtection: ['No' 'Yes']\n",
      "TechSupport: ['No' 'Yes']\n",
      "StreamingTV: ['No' 'Yes']\n",
      "StreamingMovies: ['No' 'Yes']\n",
      "Contract: ['Month-to-month' 'One year' 'Two year']\n",
      "PaperlessBilling: ['Yes' 'No']\n",
      "PaymentMethod: ['Electronic check' 'Mailed check' 'Bank transfer (automatic)'\n",
      " 'Credit card (automatic)']\n",
      "Churn: ['No' 'Yes']\n"
     ]
    }
   ],
   "source": [
    "get_column(df2)"
   ]
  },
  {
   "cell_type": "code",
   "execution_count": 19,
   "metadata": {},
   "outputs": [
    {
     "name": "stderr",
     "output_type": "stream",
     "text": [
      "C:\\Users\\Godfred\\Anaconda3\\lib\\site-packages\\pandas\\core\\generic.py:6586: SettingWithCopyWarning: \n",
      "A value is trying to be set on a copy of a slice from a DataFrame\n",
      "\n",
      "See the caveats in the documentation: http://pandas.pydata.org/pandas-docs/stable/indexing.html#indexing-view-versus-copy\n",
      "  self._update_inplace(new_data)\n"
     ]
    }
   ],
   "source": [
    "binary_column = ['Partner', 'Dependents', 'PhoneService','MultipleLines','OnlineSecurity','OnlineBackup',\n",
    "                'DeviceProtection','TechSupport','StreamingTV','StreamingMovies','PaperlessBilling','Churn']\n",
    "\n",
    "for i in binary_column:\n",
    "    df2[i].replace({'Yes': 1, 'No': 0}, inplace = True)\n",
    "  "
   ]
  },
  {
   "cell_type": "code",
   "execution_count": 20,
   "metadata": {},
   "outputs": [],
   "source": [
    "df2.replace({'Female': 0, 'Male': 1}, inplace = True)"
   ]
  },
  {
   "cell_type": "code",
   "execution_count": 21,
   "metadata": {},
   "outputs": [
    {
     "name": "stdout",
     "output_type": "stream",
     "text": [
      "InternetService: ['DSL' 'Fiber optic' 'No']\n",
      "Contract: ['Month-to-month' 'One year' 'Two year']\n",
      "PaymentMethod: ['Electronic check' 'Mailed check' 'Bank transfer (automatic)'\n",
      " 'Credit card (automatic)']\n"
     ]
    }
   ],
   "source": [
    "get_column(df2)"
   ]
  },
  {
   "cell_type": "code",
   "execution_count": 22,
   "metadata": {},
   "outputs": [
    {
     "data": {
      "text/html": [
       "<div>\n",
       "<style scoped>\n",
       "    .dataframe tbody tr th:only-of-type {\n",
       "        vertical-align: middle;\n",
       "    }\n",
       "\n",
       "    .dataframe tbody tr th {\n",
       "        vertical-align: top;\n",
       "    }\n",
       "\n",
       "    .dataframe thead th {\n",
       "        text-align: right;\n",
       "    }\n",
       "</style>\n",
       "<table border=\"1\" class=\"dataframe\">\n",
       "  <thead>\n",
       "    <tr style=\"text-align: right;\">\n",
       "      <th></th>\n",
       "      <th>gender</th>\n",
       "      <th>SeniorCitizen</th>\n",
       "      <th>Partner</th>\n",
       "      <th>Dependents</th>\n",
       "      <th>tenure</th>\n",
       "      <th>PhoneService</th>\n",
       "      <th>MultipleLines</th>\n",
       "      <th>InternetService</th>\n",
       "      <th>OnlineSecurity</th>\n",
       "      <th>OnlineBackup</th>\n",
       "      <th>DeviceProtection</th>\n",
       "      <th>TechSupport</th>\n",
       "      <th>StreamingTV</th>\n",
       "      <th>StreamingMovies</th>\n",
       "      <th>Contract</th>\n",
       "      <th>PaperlessBilling</th>\n",
       "      <th>PaymentMethod</th>\n",
       "      <th>MonthlyCharges</th>\n",
       "      <th>TotalCharges</th>\n",
       "      <th>Churn</th>\n",
       "    </tr>\n",
       "  </thead>\n",
       "  <tbody>\n",
       "    <tr>\n",
       "      <th>0</th>\n",
       "      <td>0</td>\n",
       "      <td>0</td>\n",
       "      <td>1</td>\n",
       "      <td>0</td>\n",
       "      <td>1</td>\n",
       "      <td>0</td>\n",
       "      <td>0</td>\n",
       "      <td>DSL</td>\n",
       "      <td>0</td>\n",
       "      <td>1</td>\n",
       "      <td>0</td>\n",
       "      <td>0</td>\n",
       "      <td>0</td>\n",
       "      <td>0</td>\n",
       "      <td>Month-to-month</td>\n",
       "      <td>1</td>\n",
       "      <td>Electronic check</td>\n",
       "      <td>29.85</td>\n",
       "      <td>29.85</td>\n",
       "      <td>0</td>\n",
       "    </tr>\n",
       "    <tr>\n",
       "      <th>1</th>\n",
       "      <td>1</td>\n",
       "      <td>0</td>\n",
       "      <td>0</td>\n",
       "      <td>0</td>\n",
       "      <td>34</td>\n",
       "      <td>1</td>\n",
       "      <td>0</td>\n",
       "      <td>DSL</td>\n",
       "      <td>1</td>\n",
       "      <td>0</td>\n",
       "      <td>1</td>\n",
       "      <td>0</td>\n",
       "      <td>0</td>\n",
       "      <td>0</td>\n",
       "      <td>One year</td>\n",
       "      <td>0</td>\n",
       "      <td>Mailed check</td>\n",
       "      <td>56.95</td>\n",
       "      <td>1889.50</td>\n",
       "      <td>0</td>\n",
       "    </tr>\n",
       "    <tr>\n",
       "      <th>2</th>\n",
       "      <td>1</td>\n",
       "      <td>0</td>\n",
       "      <td>0</td>\n",
       "      <td>0</td>\n",
       "      <td>2</td>\n",
       "      <td>1</td>\n",
       "      <td>0</td>\n",
       "      <td>DSL</td>\n",
       "      <td>1</td>\n",
       "      <td>1</td>\n",
       "      <td>0</td>\n",
       "      <td>0</td>\n",
       "      <td>0</td>\n",
       "      <td>0</td>\n",
       "      <td>Month-to-month</td>\n",
       "      <td>1</td>\n",
       "      <td>Mailed check</td>\n",
       "      <td>53.85</td>\n",
       "      <td>108.15</td>\n",
       "      <td>1</td>\n",
       "    </tr>\n",
       "    <tr>\n",
       "      <th>3</th>\n",
       "      <td>1</td>\n",
       "      <td>0</td>\n",
       "      <td>0</td>\n",
       "      <td>0</td>\n",
       "      <td>45</td>\n",
       "      <td>0</td>\n",
       "      <td>0</td>\n",
       "      <td>DSL</td>\n",
       "      <td>1</td>\n",
       "      <td>0</td>\n",
       "      <td>1</td>\n",
       "      <td>1</td>\n",
       "      <td>0</td>\n",
       "      <td>0</td>\n",
       "      <td>One year</td>\n",
       "      <td>0</td>\n",
       "      <td>Bank transfer (automatic)</td>\n",
       "      <td>42.30</td>\n",
       "      <td>1840.75</td>\n",
       "      <td>0</td>\n",
       "    </tr>\n",
       "    <tr>\n",
       "      <th>4</th>\n",
       "      <td>0</td>\n",
       "      <td>0</td>\n",
       "      <td>0</td>\n",
       "      <td>0</td>\n",
       "      <td>2</td>\n",
       "      <td>1</td>\n",
       "      <td>0</td>\n",
       "      <td>Fiber optic</td>\n",
       "      <td>0</td>\n",
       "      <td>0</td>\n",
       "      <td>0</td>\n",
       "      <td>0</td>\n",
       "      <td>0</td>\n",
       "      <td>0</td>\n",
       "      <td>Month-to-month</td>\n",
       "      <td>1</td>\n",
       "      <td>Electronic check</td>\n",
       "      <td>70.70</td>\n",
       "      <td>151.65</td>\n",
       "      <td>1</td>\n",
       "    </tr>\n",
       "  </tbody>\n",
       "</table>\n",
       "</div>"
      ],
      "text/plain": [
       "   gender  SeniorCitizen  Partner  Dependents  tenure  PhoneService  \\\n",
       "0       0              0        1           0       1             0   \n",
       "1       1              0        0           0      34             1   \n",
       "2       1              0        0           0       2             1   \n",
       "3       1              0        0           0      45             0   \n",
       "4       0              0        0           0       2             1   \n",
       "\n",
       "   MultipleLines InternetService  OnlineSecurity  OnlineBackup  \\\n",
       "0              0             DSL               0             1   \n",
       "1              0             DSL               1             0   \n",
       "2              0             DSL               1             1   \n",
       "3              0             DSL               1             0   \n",
       "4              0     Fiber optic               0             0   \n",
       "\n",
       "   DeviceProtection  TechSupport  StreamingTV  StreamingMovies  \\\n",
       "0                 0            0            0                0   \n",
       "1                 1            0            0                0   \n",
       "2                 0            0            0                0   \n",
       "3                 1            1            0                0   \n",
       "4                 0            0            0                0   \n",
       "\n",
       "         Contract  PaperlessBilling              PaymentMethod  \\\n",
       "0  Month-to-month                 1           Electronic check   \n",
       "1        One year                 0               Mailed check   \n",
       "2  Month-to-month                 1               Mailed check   \n",
       "3        One year                 0  Bank transfer (automatic)   \n",
       "4  Month-to-month                 1           Electronic check   \n",
       "\n",
       "   MonthlyCharges  TotalCharges  Churn  \n",
       "0           29.85         29.85      0  \n",
       "1           56.95       1889.50      0  \n",
       "2           53.85        108.15      1  \n",
       "3           42.30       1840.75      0  \n",
       "4           70.70        151.65      1  "
      ]
     },
     "execution_count": 22,
     "metadata": {},
     "output_type": "execute_result"
    }
   ],
   "source": [
    "df2.head()"
   ]
  },
  {
   "cell_type": "code",
   "execution_count": 23,
   "metadata": {},
   "outputs": [],
   "source": [
    "df3 = pd.get_dummies(data = df2)"
   ]
  },
  {
   "cell_type": "code",
   "execution_count": 24,
   "metadata": {},
   "outputs": [],
   "source": [
    "columns = ['tenure', 'MonthlyCharges', 'TotalCharges']\n",
    "from sklearn.preprocessing import MinMaxScaler\n",
    "scale = MinMaxScaler()\n",
    "df3[columns] = scale.fit_transform(df3[columns])"
   ]
  },
  {
   "cell_type": "code",
   "execution_count": 25,
   "metadata": {},
   "outputs": [
    {
     "name": "stdout",
     "output_type": "stream",
     "text": [
      "tenure:[0.         0.46478873 0.01408451 0.61971831 0.09859155 0.29577465\n",
      " 0.12676056 0.38028169 0.85915493 0.16901408 0.21126761 0.8028169\n",
      " 0.67605634 0.33802817 0.95774648 0.71830986 0.98591549 0.28169014\n",
      " 0.15492958 0.4084507  0.64788732 1.         0.22535211 0.36619718\n",
      " 0.05633803 0.63380282 0.14084507 0.97183099 0.87323944 0.5915493\n",
      " 0.1971831  0.83098592 0.23943662 0.91549296 0.11267606 0.02816901\n",
      " 0.42253521 0.69014085 0.88732394 0.77464789 0.08450704 0.57746479\n",
      " 0.47887324 0.66197183 0.3943662  0.90140845 0.52112676 0.94366197\n",
      " 0.43661972 0.76056338 0.50704225 0.49295775 0.56338028 0.07042254\n",
      " 0.04225352 0.45070423 0.92957746 0.30985915 0.78873239 0.84507042\n",
      " 0.18309859 0.26760563 0.73239437 0.54929577 0.81690141 0.32394366\n",
      " 0.6056338  0.25352113 0.74647887 0.70422535 0.35211268 0.53521127]\n",
      "MonthlyCharges:[0.11542289 0.38507463 0.35422886 ... 0.44626866 0.25820896 0.60149254]\n",
      "TotalCharges:[0.0012751  0.21586661 0.01031041 ... 0.03780868 0.03321025 0.78764136]\n"
     ]
    }
   ],
   "source": [
    "for i in columns:\n",
    "    print(f'{i}:{df3[i].unique()}')\n"
   ]
  },
  {
   "cell_type": "code",
   "execution_count": 26,
   "metadata": {},
   "outputs": [
    {
     "data": {
      "text/html": [
       "<div>\n",
       "<style scoped>\n",
       "    .dataframe tbody tr th:only-of-type {\n",
       "        vertical-align: middle;\n",
       "    }\n",
       "\n",
       "    .dataframe tbody tr th {\n",
       "        vertical-align: top;\n",
       "    }\n",
       "\n",
       "    .dataframe thead th {\n",
       "        text-align: right;\n",
       "    }\n",
       "</style>\n",
       "<table border=\"1\" class=\"dataframe\">\n",
       "  <thead>\n",
       "    <tr style=\"text-align: right;\">\n",
       "      <th></th>\n",
       "      <th>gender</th>\n",
       "      <th>SeniorCitizen</th>\n",
       "      <th>Partner</th>\n",
       "      <th>Dependents</th>\n",
       "      <th>tenure</th>\n",
       "      <th>PhoneService</th>\n",
       "      <th>MultipleLines</th>\n",
       "      <th>OnlineSecurity</th>\n",
       "      <th>OnlineBackup</th>\n",
       "      <th>DeviceProtection</th>\n",
       "      <th>...</th>\n",
       "      <th>InternetService_DSL</th>\n",
       "      <th>InternetService_Fiber optic</th>\n",
       "      <th>InternetService_No</th>\n",
       "      <th>Contract_Month-to-month</th>\n",
       "      <th>Contract_One year</th>\n",
       "      <th>Contract_Two year</th>\n",
       "      <th>PaymentMethod_Bank transfer (automatic)</th>\n",
       "      <th>PaymentMethod_Credit card (automatic)</th>\n",
       "      <th>PaymentMethod_Electronic check</th>\n",
       "      <th>PaymentMethod_Mailed check</th>\n",
       "    </tr>\n",
       "  </thead>\n",
       "  <tbody>\n",
       "    <tr>\n",
       "      <th>0</th>\n",
       "      <td>0</td>\n",
       "      <td>0</td>\n",
       "      <td>1</td>\n",
       "      <td>0</td>\n",
       "      <td>0.000000</td>\n",
       "      <td>0</td>\n",
       "      <td>0</td>\n",
       "      <td>0</td>\n",
       "      <td>1</td>\n",
       "      <td>0</td>\n",
       "      <td>...</td>\n",
       "      <td>1</td>\n",
       "      <td>0</td>\n",
       "      <td>0</td>\n",
       "      <td>1</td>\n",
       "      <td>0</td>\n",
       "      <td>0</td>\n",
       "      <td>0</td>\n",
       "      <td>0</td>\n",
       "      <td>1</td>\n",
       "      <td>0</td>\n",
       "    </tr>\n",
       "    <tr>\n",
       "      <th>1</th>\n",
       "      <td>1</td>\n",
       "      <td>0</td>\n",
       "      <td>0</td>\n",
       "      <td>0</td>\n",
       "      <td>0.464789</td>\n",
       "      <td>1</td>\n",
       "      <td>0</td>\n",
       "      <td>1</td>\n",
       "      <td>0</td>\n",
       "      <td>1</td>\n",
       "      <td>...</td>\n",
       "      <td>1</td>\n",
       "      <td>0</td>\n",
       "      <td>0</td>\n",
       "      <td>0</td>\n",
       "      <td>1</td>\n",
       "      <td>0</td>\n",
       "      <td>0</td>\n",
       "      <td>0</td>\n",
       "      <td>0</td>\n",
       "      <td>1</td>\n",
       "    </tr>\n",
       "    <tr>\n",
       "      <th>2</th>\n",
       "      <td>1</td>\n",
       "      <td>0</td>\n",
       "      <td>0</td>\n",
       "      <td>0</td>\n",
       "      <td>0.014085</td>\n",
       "      <td>1</td>\n",
       "      <td>0</td>\n",
       "      <td>1</td>\n",
       "      <td>1</td>\n",
       "      <td>0</td>\n",
       "      <td>...</td>\n",
       "      <td>1</td>\n",
       "      <td>0</td>\n",
       "      <td>0</td>\n",
       "      <td>1</td>\n",
       "      <td>0</td>\n",
       "      <td>0</td>\n",
       "      <td>0</td>\n",
       "      <td>0</td>\n",
       "      <td>0</td>\n",
       "      <td>1</td>\n",
       "    </tr>\n",
       "    <tr>\n",
       "      <th>3</th>\n",
       "      <td>1</td>\n",
       "      <td>0</td>\n",
       "      <td>0</td>\n",
       "      <td>0</td>\n",
       "      <td>0.619718</td>\n",
       "      <td>0</td>\n",
       "      <td>0</td>\n",
       "      <td>1</td>\n",
       "      <td>0</td>\n",
       "      <td>1</td>\n",
       "      <td>...</td>\n",
       "      <td>1</td>\n",
       "      <td>0</td>\n",
       "      <td>0</td>\n",
       "      <td>0</td>\n",
       "      <td>1</td>\n",
       "      <td>0</td>\n",
       "      <td>1</td>\n",
       "      <td>0</td>\n",
       "      <td>0</td>\n",
       "      <td>0</td>\n",
       "    </tr>\n",
       "    <tr>\n",
       "      <th>4</th>\n",
       "      <td>0</td>\n",
       "      <td>0</td>\n",
       "      <td>0</td>\n",
       "      <td>0</td>\n",
       "      <td>0.014085</td>\n",
       "      <td>1</td>\n",
       "      <td>0</td>\n",
       "      <td>0</td>\n",
       "      <td>0</td>\n",
       "      <td>0</td>\n",
       "      <td>...</td>\n",
       "      <td>0</td>\n",
       "      <td>1</td>\n",
       "      <td>0</td>\n",
       "      <td>1</td>\n",
       "      <td>0</td>\n",
       "      <td>0</td>\n",
       "      <td>0</td>\n",
       "      <td>0</td>\n",
       "      <td>1</td>\n",
       "      <td>0</td>\n",
       "    </tr>\n",
       "  </tbody>\n",
       "</table>\n",
       "<p>5 rows × 27 columns</p>\n",
       "</div>"
      ],
      "text/plain": [
       "   gender  SeniorCitizen  Partner  Dependents    tenure  PhoneService  \\\n",
       "0       0              0        1           0  0.000000             0   \n",
       "1       1              0        0           0  0.464789             1   \n",
       "2       1              0        0           0  0.014085             1   \n",
       "3       1              0        0           0  0.619718             0   \n",
       "4       0              0        0           0  0.014085             1   \n",
       "\n",
       "   MultipleLines  OnlineSecurity  OnlineBackup  DeviceProtection  ...  \\\n",
       "0              0               0             1                 0  ...   \n",
       "1              0               1             0                 1  ...   \n",
       "2              0               1             1                 0  ...   \n",
       "3              0               1             0                 1  ...   \n",
       "4              0               0             0                 0  ...   \n",
       "\n",
       "   InternetService_DSL  InternetService_Fiber optic  InternetService_No  \\\n",
       "0                    1                            0                   0   \n",
       "1                    1                            0                   0   \n",
       "2                    1                            0                   0   \n",
       "3                    1                            0                   0   \n",
       "4                    0                            1                   0   \n",
       "\n",
       "   Contract_Month-to-month  Contract_One year  Contract_Two year  \\\n",
       "0                        1                  0                  0   \n",
       "1                        0                  1                  0   \n",
       "2                        1                  0                  0   \n",
       "3                        0                  1                  0   \n",
       "4                        1                  0                  0   \n",
       "\n",
       "   PaymentMethod_Bank transfer (automatic)  \\\n",
       "0                                        0   \n",
       "1                                        0   \n",
       "2                                        0   \n",
       "3                                        1   \n",
       "4                                        0   \n",
       "\n",
       "   PaymentMethod_Credit card (automatic)  PaymentMethod_Electronic check  \\\n",
       "0                                      0                               1   \n",
       "1                                      0                               0   \n",
       "2                                      0                               0   \n",
       "3                                      0                               0   \n",
       "4                                      0                               1   \n",
       "\n",
       "   PaymentMethod_Mailed check  \n",
       "0                           0  \n",
       "1                           1  \n",
       "2                           1  \n",
       "3                           0  \n",
       "4                           0  \n",
       "\n",
       "[5 rows x 27 columns]"
      ]
     },
     "execution_count": 26,
     "metadata": {},
     "output_type": "execute_result"
    }
   ],
   "source": [
    "df3.head()"
   ]
  },
  {
   "cell_type": "code",
   "execution_count": 27,
   "metadata": {},
   "outputs": [
    {
     "data": {
      "text/plain": [
       "gender                                       int64\n",
       "SeniorCitizen                                int64\n",
       "Partner                                      int64\n",
       "Dependents                                   int64\n",
       "tenure                                     float64\n",
       "PhoneService                                 int64\n",
       "MultipleLines                                int64\n",
       "OnlineSecurity                               int64\n",
       "OnlineBackup                                 int64\n",
       "DeviceProtection                             int64\n",
       "TechSupport                                  int64\n",
       "StreamingTV                                  int64\n",
       "StreamingMovies                              int64\n",
       "PaperlessBilling                             int64\n",
       "MonthlyCharges                             float64\n",
       "TotalCharges                               float64\n",
       "Churn                                        int64\n",
       "InternetService_DSL                          uint8\n",
       "InternetService_Fiber optic                  uint8\n",
       "InternetService_No                           uint8\n",
       "Contract_Month-to-month                      uint8\n",
       "Contract_One year                            uint8\n",
       "Contract_Two year                            uint8\n",
       "PaymentMethod_Bank transfer (automatic)      uint8\n",
       "PaymentMethod_Credit card (automatic)        uint8\n",
       "PaymentMethod_Electronic check               uint8\n",
       "PaymentMethod_Mailed check                   uint8\n",
       "dtype: object"
      ]
     },
     "execution_count": 27,
     "metadata": {},
     "output_type": "execute_result"
    }
   ],
   "source": [
    "df3.dtypes"
   ]
  },
  {
   "cell_type": "code",
   "execution_count": 28,
   "metadata": {},
   "outputs": [],
   "source": [
    "X = df3.drop('Churn', axis = 'columns')\n",
    "y = df3['Churn']"
   ]
  },
  {
   "cell_type": "code",
   "execution_count": 29,
   "metadata": {},
   "outputs": [
    {
     "data": {
      "text/html": [
       "<div>\n",
       "<style scoped>\n",
       "    .dataframe tbody tr th:only-of-type {\n",
       "        vertical-align: middle;\n",
       "    }\n",
       "\n",
       "    .dataframe tbody tr th {\n",
       "        vertical-align: top;\n",
       "    }\n",
       "\n",
       "    .dataframe thead th {\n",
       "        text-align: right;\n",
       "    }\n",
       "</style>\n",
       "<table border=\"1\" class=\"dataframe\">\n",
       "  <thead>\n",
       "    <tr style=\"text-align: right;\">\n",
       "      <th></th>\n",
       "      <th>gender</th>\n",
       "      <th>SeniorCitizen</th>\n",
       "      <th>Partner</th>\n",
       "      <th>Dependents</th>\n",
       "      <th>tenure</th>\n",
       "      <th>PhoneService</th>\n",
       "      <th>MultipleLines</th>\n",
       "      <th>OnlineSecurity</th>\n",
       "      <th>OnlineBackup</th>\n",
       "      <th>DeviceProtection</th>\n",
       "      <th>...</th>\n",
       "      <th>InternetService_DSL</th>\n",
       "      <th>InternetService_Fiber optic</th>\n",
       "      <th>InternetService_No</th>\n",
       "      <th>Contract_Month-to-month</th>\n",
       "      <th>Contract_One year</th>\n",
       "      <th>Contract_Two year</th>\n",
       "      <th>PaymentMethod_Bank transfer (automatic)</th>\n",
       "      <th>PaymentMethod_Credit card (automatic)</th>\n",
       "      <th>PaymentMethod_Electronic check</th>\n",
       "      <th>PaymentMethod_Mailed check</th>\n",
       "    </tr>\n",
       "  </thead>\n",
       "  <tbody>\n",
       "    <tr>\n",
       "      <th>0</th>\n",
       "      <td>0</td>\n",
       "      <td>0</td>\n",
       "      <td>1</td>\n",
       "      <td>0</td>\n",
       "      <td>0.000000</td>\n",
       "      <td>0</td>\n",
       "      <td>0</td>\n",
       "      <td>0</td>\n",
       "      <td>1</td>\n",
       "      <td>0</td>\n",
       "      <td>...</td>\n",
       "      <td>1</td>\n",
       "      <td>0</td>\n",
       "      <td>0</td>\n",
       "      <td>1</td>\n",
       "      <td>0</td>\n",
       "      <td>0</td>\n",
       "      <td>0</td>\n",
       "      <td>0</td>\n",
       "      <td>1</td>\n",
       "      <td>0</td>\n",
       "    </tr>\n",
       "    <tr>\n",
       "      <th>1</th>\n",
       "      <td>1</td>\n",
       "      <td>0</td>\n",
       "      <td>0</td>\n",
       "      <td>0</td>\n",
       "      <td>0.464789</td>\n",
       "      <td>1</td>\n",
       "      <td>0</td>\n",
       "      <td>1</td>\n",
       "      <td>0</td>\n",
       "      <td>1</td>\n",
       "      <td>...</td>\n",
       "      <td>1</td>\n",
       "      <td>0</td>\n",
       "      <td>0</td>\n",
       "      <td>0</td>\n",
       "      <td>1</td>\n",
       "      <td>0</td>\n",
       "      <td>0</td>\n",
       "      <td>0</td>\n",
       "      <td>0</td>\n",
       "      <td>1</td>\n",
       "    </tr>\n",
       "    <tr>\n",
       "      <th>2</th>\n",
       "      <td>1</td>\n",
       "      <td>0</td>\n",
       "      <td>0</td>\n",
       "      <td>0</td>\n",
       "      <td>0.014085</td>\n",
       "      <td>1</td>\n",
       "      <td>0</td>\n",
       "      <td>1</td>\n",
       "      <td>1</td>\n",
       "      <td>0</td>\n",
       "      <td>...</td>\n",
       "      <td>1</td>\n",
       "      <td>0</td>\n",
       "      <td>0</td>\n",
       "      <td>1</td>\n",
       "      <td>0</td>\n",
       "      <td>0</td>\n",
       "      <td>0</td>\n",
       "      <td>0</td>\n",
       "      <td>0</td>\n",
       "      <td>1</td>\n",
       "    </tr>\n",
       "    <tr>\n",
       "      <th>3</th>\n",
       "      <td>1</td>\n",
       "      <td>0</td>\n",
       "      <td>0</td>\n",
       "      <td>0</td>\n",
       "      <td>0.619718</td>\n",
       "      <td>0</td>\n",
       "      <td>0</td>\n",
       "      <td>1</td>\n",
       "      <td>0</td>\n",
       "      <td>1</td>\n",
       "      <td>...</td>\n",
       "      <td>1</td>\n",
       "      <td>0</td>\n",
       "      <td>0</td>\n",
       "      <td>0</td>\n",
       "      <td>1</td>\n",
       "      <td>0</td>\n",
       "      <td>1</td>\n",
       "      <td>0</td>\n",
       "      <td>0</td>\n",
       "      <td>0</td>\n",
       "    </tr>\n",
       "    <tr>\n",
       "      <th>4</th>\n",
       "      <td>0</td>\n",
       "      <td>0</td>\n",
       "      <td>0</td>\n",
       "      <td>0</td>\n",
       "      <td>0.014085</td>\n",
       "      <td>1</td>\n",
       "      <td>0</td>\n",
       "      <td>0</td>\n",
       "      <td>0</td>\n",
       "      <td>0</td>\n",
       "      <td>...</td>\n",
       "      <td>0</td>\n",
       "      <td>1</td>\n",
       "      <td>0</td>\n",
       "      <td>1</td>\n",
       "      <td>0</td>\n",
       "      <td>0</td>\n",
       "      <td>0</td>\n",
       "      <td>0</td>\n",
       "      <td>1</td>\n",
       "      <td>0</td>\n",
       "    </tr>\n",
       "  </tbody>\n",
       "</table>\n",
       "<p>5 rows × 26 columns</p>\n",
       "</div>"
      ],
      "text/plain": [
       "   gender  SeniorCitizen  Partner  Dependents    tenure  PhoneService  \\\n",
       "0       0              0        1           0  0.000000             0   \n",
       "1       1              0        0           0  0.464789             1   \n",
       "2       1              0        0           0  0.014085             1   \n",
       "3       1              0        0           0  0.619718             0   \n",
       "4       0              0        0           0  0.014085             1   \n",
       "\n",
       "   MultipleLines  OnlineSecurity  OnlineBackup  DeviceProtection  ...  \\\n",
       "0              0               0             1                 0  ...   \n",
       "1              0               1             0                 1  ...   \n",
       "2              0               1             1                 0  ...   \n",
       "3              0               1             0                 1  ...   \n",
       "4              0               0             0                 0  ...   \n",
       "\n",
       "   InternetService_DSL  InternetService_Fiber optic  InternetService_No  \\\n",
       "0                    1                            0                   0   \n",
       "1                    1                            0                   0   \n",
       "2                    1                            0                   0   \n",
       "3                    1                            0                   0   \n",
       "4                    0                            1                   0   \n",
       "\n",
       "   Contract_Month-to-month  Contract_One year  Contract_Two year  \\\n",
       "0                        1                  0                  0   \n",
       "1                        0                  1                  0   \n",
       "2                        1                  0                  0   \n",
       "3                        0                  1                  0   \n",
       "4                        1                  0                  0   \n",
       "\n",
       "   PaymentMethod_Bank transfer (automatic)  \\\n",
       "0                                        0   \n",
       "1                                        0   \n",
       "2                                        0   \n",
       "3                                        1   \n",
       "4                                        0   \n",
       "\n",
       "   PaymentMethod_Credit card (automatic)  PaymentMethod_Electronic check  \\\n",
       "0                                      0                               1   \n",
       "1                                      0                               0   \n",
       "2                                      0                               0   \n",
       "3                                      0                               0   \n",
       "4                                      0                               1   \n",
       "\n",
       "   PaymentMethod_Mailed check  \n",
       "0                           0  \n",
       "1                           1  \n",
       "2                           1  \n",
       "3                           0  \n",
       "4                           0  \n",
       "\n",
       "[5 rows x 26 columns]"
      ]
     },
     "execution_count": 29,
     "metadata": {},
     "output_type": "execute_result"
    }
   ],
   "source": [
    "X.head()"
   ]
  },
  {
   "cell_type": "code",
   "execution_count": 30,
   "metadata": {},
   "outputs": [
    {
     "data": {
      "text/plain": [
       "0    0\n",
       "1    0\n",
       "2    1\n",
       "3    0\n",
       "4    1\n",
       "Name: Churn, dtype: int64"
      ]
     },
     "execution_count": 30,
     "metadata": {},
     "output_type": "execute_result"
    }
   ],
   "source": [
    "y.head()"
   ]
  },
  {
   "cell_type": "code",
   "execution_count": 31,
   "metadata": {},
   "outputs": [],
   "source": [
    "from sklearn.model_selection import train_test_split \n",
    "X_train, X_test, y_train, y_test = train_test_split(X,y, test_size = 0.4, random_state = 42)"
   ]
  },
  {
   "cell_type": "code",
   "execution_count": 32,
   "metadata": {},
   "outputs": [
    {
     "data": {
      "text/plain": [
       "(2813,)"
      ]
     },
     "execution_count": 32,
     "metadata": {},
     "output_type": "execute_result"
    }
   ],
   "source": [
    "y_test.shape"
   ]
  },
  {
   "cell_type": "code",
   "execution_count": 33,
   "metadata": {},
   "outputs": [],
   "source": [
    "import tensorflow as tf\n",
    "from tensorflow import keras \n"
   ]
  },
  {
   "cell_type": "code",
   "execution_count": 45,
   "metadata": {},
   "outputs": [
    {
     "name": "stdout",
     "output_type": "stream",
     "text": [
      "Epoch 1/50\n",
      "4219/4219 [==============================] - 1s 273us/sample - loss: 0.4519 - acc: 0.7751\n",
      "Epoch 2/50\n",
      "4219/4219 [==============================] - 0s 110us/sample - loss: 0.4210 - acc: 0.7973\n",
      "Epoch 3/50\n",
      "4219/4219 [==============================] - 0s 116us/sample - loss: 0.4159 - acc: 0.8007\n",
      "Epoch 4/50\n",
      "4219/4219 [==============================] - 0s 113us/sample - loss: 0.4079 - acc: 0.8066\n",
      "Epoch 5/50\n",
      "4219/4219 [==============================] - 0s 106us/sample - loss: 0.3996 - acc: 0.8078\n",
      "Epoch 6/50\n",
      "4219/4219 [==============================] - 0s 106us/sample - loss: 0.3951 - acc: 0.8087\n",
      "Epoch 7/50\n",
      "4219/4219 [==============================] - 0s 108us/sample - loss: 0.3879 - acc: 0.8128\n",
      "Epoch 8/50\n",
      "4219/4219 [==============================] - 0s 107us/sample - loss: 0.3783 - acc: 0.8187\n",
      "Epoch 9/50\n",
      "4219/4219 [==============================] - 0s 115us/sample - loss: 0.3686 - acc: 0.8218\n",
      "Epoch 10/50\n",
      "4219/4219 [==============================] - 0s 106us/sample - loss: 0.3635 - acc: 0.8260\n",
      "Epoch 11/50\n",
      "4219/4219 [==============================] - 0s 109us/sample - loss: 0.3520 - acc: 0.8317\n",
      "Epoch 12/50\n",
      "4219/4219 [==============================] - 0s 108us/sample - loss: 0.3406 - acc: 0.8410\n",
      "Epoch 13/50\n",
      "4219/4219 [==============================] - 0s 108us/sample - loss: 0.3286 - acc: 0.8417\n",
      "Epoch 14/50\n",
      "4219/4219 [==============================] - 0s 107us/sample - loss: 0.3192 - acc: 0.8476\n",
      "Epoch 15/50\n",
      "4219/4219 [==============================] - 0s 107us/sample - loss: 0.3016 - acc: 0.8566\n",
      "Epoch 16/50\n",
      "4219/4219 [==============================] - 0s 108us/sample - loss: 0.2925 - acc: 0.8630\n",
      "Epoch 17/50\n",
      "4219/4219 [==============================] - 0s 109us/sample - loss: 0.2772 - acc: 0.8694\n",
      "Epoch 18/50\n",
      "4219/4219 [==============================] - 0s 108us/sample - loss: 0.2615 - acc: 0.8824\n",
      "Epoch 19/50\n",
      "4219/4219 [==============================] - 0s 109us/sample - loss: 0.2487 - acc: 0.8829\n",
      "Epoch 20/50\n",
      "4219/4219 [==============================] - 0s 109us/sample - loss: 0.2386 - acc: 0.8933\n",
      "Epoch 21/50\n",
      "4219/4219 [==============================] - 0s 113us/sample - loss: 0.2287 - acc: 0.8919\n",
      "Epoch 22/50\n",
      "4219/4219 [==============================] - 0s 107us/sample - loss: 0.2238 - acc: 0.8988\n",
      "Epoch 23/50\n",
      "4219/4219 [==============================] - 0s 104us/sample - loss: 0.2103 - acc: 0.9000\n",
      "Epoch 24/50\n",
      "4219/4219 [==============================] - 0s 106us/sample - loss: 0.2048 - acc: 0.9035\n",
      "Epoch 25/50\n",
      "4219/4219 [==============================] - 0s 110us/sample - loss: 0.1942 - acc: 0.9118\n",
      "Epoch 26/50\n",
      "4219/4219 [==============================] - 0s 109us/sample - loss: 0.1760 - acc: 0.9201\n",
      "Epoch 27/50\n",
      "4219/4219 [==============================] - 0s 113us/sample - loss: 0.1707 - acc: 0.9201\n",
      "Epoch 28/50\n",
      "4219/4219 [==============================] - 0s 106us/sample - loss: 0.1618 - acc: 0.9239\n",
      "Epoch 29/50\n",
      "4219/4219 [==============================] - 0s 107us/sample - loss: 0.1569 - acc: 0.9218\n",
      "Epoch 30/50\n",
      "4219/4219 [==============================] - 0s 105us/sample - loss: 0.1538 - acc: 0.9244\n",
      "Epoch 31/50\n",
      "4219/4219 [==============================] - 0s 105us/sample - loss: 0.1517 - acc: 0.9291\n",
      "Epoch 32/50\n",
      "4219/4219 [==============================] - 0s 107us/sample - loss: 0.1470 - acc: 0.9301\n",
      "Epoch 33/50\n",
      "4219/4219 [==============================] - 0s 104us/sample - loss: 0.1445 - acc: 0.9296\n",
      "Epoch 34/50\n",
      "4219/4219 [==============================] - 0s 109us/sample - loss: 0.1349 - acc: 0.9336\n",
      "Epoch 35/50\n",
      "4219/4219 [==============================] - 0s 108us/sample - loss: 0.1384 - acc: 0.9341\n",
      "Epoch 36/50\n",
      "4219/4219 [==============================] - 0s 109us/sample - loss: 0.1351 - acc: 0.9336\n",
      "Epoch 37/50\n",
      "4219/4219 [==============================] - 0s 109us/sample - loss: 0.1228 - acc: 0.9379\n",
      "Epoch 38/50\n",
      "4219/4219 [==============================] - 0s 110us/sample - loss: 0.1309 - acc: 0.9417\n",
      "Epoch 39/50\n",
      "4219/4219 [==============================] - 0s 108us/sample - loss: 0.1198 - acc: 0.9434\n",
      "Epoch 40/50\n",
      "4219/4219 [==============================] - 0s 108us/sample - loss: 0.1206 - acc: 0.9419\n",
      "Epoch 41/50\n",
      "4219/4219 [==============================] - 0s 105us/sample - loss: 0.1139 - acc: 0.9443\n",
      "Epoch 42/50\n",
      "4219/4219 [==============================] - 0s 109us/sample - loss: 0.1121 - acc: 0.9438\n",
      "Epoch 43/50\n",
      "4219/4219 [==============================] - 0s 109us/sample - loss: 0.1136 - acc: 0.9410\n",
      "Epoch 44/50\n",
      "4219/4219 [==============================] - 0s 106us/sample - loss: 0.1363 - acc: 0.9343\n",
      "Epoch 45/50\n",
      "4219/4219 [==============================] - 0s 109us/sample - loss: 0.1238 - acc: 0.9400\n",
      "Epoch 46/50\n",
      "4219/4219 [==============================] - 0s 107us/sample - loss: 0.1206 - acc: 0.9417\n",
      "Epoch 47/50\n",
      "4219/4219 [==============================] - 0s 109us/sample - loss: 0.1074 - acc: 0.9441\n",
      "Epoch 48/50\n",
      "4219/4219 [==============================] - 0s 104us/sample - loss: 0.1199 - acc: 0.9426\n",
      "Epoch 49/50\n",
      "4219/4219 [==============================] - 0s 105us/sample - loss: 0.1218 - acc: 0.9405\n",
      "Epoch 50/50\n",
      "4219/4219 [==============================] - 0s 104us/sample - loss: 0.1036 - acc: 0.9462\n"
     ]
    },
    {
     "data": {
      "text/plain": [
       "<tensorflow.python.keras.callbacks.History at 0x20a64acd2b0>"
      ]
     },
     "execution_count": 45,
     "metadata": {},
     "output_type": "execute_result"
    }
   ],
   "source": [
    "model = keras.Sequential([\n",
    "    \n",
    "    keras.layers.Dense(100, input_dim = 26, activation = 'relu'),\n",
    "    keras.layers.Dense(200,  activation = 'relu'),\n",
    "    keras.layers.Dense(200,  activation = 'relu'),\n",
    "     keras.layers.Dense(1, activation = 'sigmoid')\n",
    "])\n",
    "\n",
    "model.compile(\n",
    "    optimizer = 'adam',\n",
    "    loss = 'binary_crossentropy',\n",
    "    metrics = ['accuracy']\n",
    ")\n",
    "\n",
    "model.fit(X_train, y_train, epochs  = 50)"
   ]
  },
  {
   "cell_type": "code",
   "execution_count": 46,
   "metadata": {},
   "outputs": [],
   "source": [
    "y_pred = model.predict(X_test)"
   ]
  },
  {
   "cell_type": "code",
   "execution_count": null,
   "metadata": {},
   "outputs": [],
   "source": [
    "#y_pred = (np.float64(y_pred),5)"
   ]
  },
  {
   "cell_type": "code",
   "execution_count": 58,
   "metadata": {},
   "outputs": [
    {
     "data": {
      "text/plain": [
       "array([[0.],\n",
       "       [0.],\n",
       "       [1.],\n",
       "       [0.],\n",
       "       [0.],\n",
       "       [0.],\n",
       "       [0.],\n",
       "       [0.],\n",
       "       [1.],\n",
       "       [0.]], dtype=float32)"
      ]
     },
     "execution_count": 58,
     "metadata": {},
     "output_type": "execute_result"
    }
   ],
   "source": [
    "y_pred[:10]\n",
    "y_preeds = np.round(y_pred)\n",
    "y_preeds[:10]"
   ]
  },
  {
   "cell_type": "code",
   "execution_count": 48,
   "metadata": {},
   "outputs": [
    {
     "data": {
      "text/plain": [
       "2481    0\n",
       "6784    0\n",
       "6125    1\n",
       "3052    0\n",
       "4099    0\n",
       "3223    0\n",
       "3774    0\n",
       "3469    0\n",
       "3420    0\n",
       "1196    0\n",
       "Name: Churn, dtype: int64"
      ]
     },
     "execution_count": 48,
     "metadata": {},
     "output_type": "execute_result"
    }
   ],
   "source": [
    "y_test[:10]"
   ]
  },
  {
   "cell_type": "code",
   "execution_count": 49,
   "metadata": {},
   "outputs": [],
   "source": [
    "y_predicted = []\n",
    "for i in y_pred:\n",
    "    if i > 0.5:\n",
    "        y_predicted.append(1)\n",
    "    else:\n",
    "        y_predicted.append(0)"
   ]
  },
  {
   "cell_type": "code",
   "execution_count": 50,
   "metadata": {},
   "outputs": [
    {
     "data": {
      "text/plain": [
       "[0, 0, 1, 0, 0, 0, 0, 0, 1, 0]"
      ]
     },
     "execution_count": 50,
     "metadata": {},
     "output_type": "execute_result"
    }
   ],
   "source": [
    "y_predicted[:10]"
   ]
  },
  {
   "cell_type": "code",
   "execution_count": 51,
   "metadata": {},
   "outputs": [
    {
     "data": {
      "text/plain": [
       "2481    0\n",
       "6784    0\n",
       "6125    1\n",
       "3052    0\n",
       "4099    0\n",
       "3223    0\n",
       "3774    0\n",
       "3469    0\n",
       "3420    0\n",
       "1196    0\n",
       "Name: Churn, dtype: int64"
      ]
     },
     "execution_count": 51,
     "metadata": {},
     "output_type": "execute_result"
    }
   ],
   "source": [
    "y_test[:10]"
   ]
  },
  {
   "cell_type": "code",
   "execution_count": 52,
   "metadata": {},
   "outputs": [],
   "source": [
    "from sklearn.metrics import confusion_matrix \n",
    "cm = confusion_matrix(y_test,y_predicted)"
   ]
  },
  {
   "cell_type": "code",
   "execution_count": 53,
   "metadata": {},
   "outputs": [
    {
     "data": {
      "text/plain": [
       "Text(33.0, 0.5, 'Truth')"
      ]
     },
     "execution_count": 53,
     "metadata": {},
     "output_type": "execute_result"
    },
    {
     "data": {
      "image/png": "[encoded data removed]",
      "text/plain": [
       "<Figure size 432x288 with 2 Axes>"
      ]
     },
     "metadata": {
      "needs_background": "light"
     },
     "output_type": "display_data"
    }
   ],
   "source": [
    "cm = cm.astype('float')/cm.sum(axis = 1)[:,np.newaxis]\n",
    "import seaborn as sn \n",
    "sn.heatmap(cm, annot = True, fmt = '.2f')\n",
    "plt.xlabel('Predicted')\n",
    "plt.ylabel('Truth')"
   ]
  },
  {
   "cell_type": "code",
   "execution_count": 59,
   "metadata": {},
   "outputs": [],
   "source": [
    "from sklearn.metrics import classification_report, confusion_matrix\n",
    "cr = classification_report(y_test, y_predicted)"
   ]
  },
  {
   "cell_type": "code",
   "execution_count": 55,
   "metadata": {},
   "outputs": [
    {
     "name": "stdout",
     "output_type": "stream",
     "text": [
      "classification report\n",
      "               precision    recall  f1-score   support\n",
      "\n",
      "           0       0.84      0.82      0.83      2079\n",
      "           1       0.52      0.55      0.53       734\n",
      "\n",
      "    accuracy                           0.75      2813\n",
      "   macro avg       0.68      0.69      0.68      2813\n",
      "weighted avg       0.76      0.75      0.75      2813\n",
      "\n"
     ]
    }
   ],
   "source": [
    "print('classification report\\n', cr)"
   ]
  },
  {
   "cell_type": "code",
   "execution_count": 56,
   "metadata": {},
   "outputs": [
    {
     "name": "stdout",
     "output_type": "stream",
     "text": [
      "Model: \"sequential_4\"\n",
      "_________________________________________________________________\n",
      "Layer (type)                 Output Shape              Param #   \n",
      "=================================================================\n",
      "dense_16 (Dense)             (None, 100)               2700      \n",
      "_________________________________________________________________\n",
      "dense_17 (Dense)             (None, 200)               20200     \n",
      "_________________________________________________________________\n",
      "dense_18 (Dense)             (None, 200)               40200     \n",
      "_________________________________________________________________\n",
      "dense_19 (Dense)             (None, 1)                 201       \n",
      "=================================================================\n",
      "Total params: 63,301\n",
      "Trainable params: 63,301\n",
      "Non-trainable params: 0\n",
      "_________________________________________________________________\n"
     ]
    }
   ],
   "source": [
    "model.summary()"
   ]
  },
  {
   "cell_type": "code",
   "execution_count": null,
   "metadata": {},
   "outputs": [],
   "source": [
    "!pip install h5py pyyaml"
   ]
  },
  {
   "cell_type": "markdown",
   "metadata": {},
   "source": [
    "# how to save a neural network model, study later!!\n"
   ]
  },
  {
   "cell_type": "code",
   "execution_count": null,
   "metadata": {},
   "outputs": [],
   "source": [
    "#import os.path \n",
    "#if os.path.isfile('ml/customer_churn') is False:\n",
    "    #model.save('ml/customer_churn.h5')\n"
   ]
  },
  {
   "cell_type": "code",
   "execution_count": 62,
   "metadata": {},
   "outputs": [],
   "source": [
    "def ANN(X_train, X_test, y_train, y_test, loss):\n",
    "    \n",
    "    model = keras.Sequential([\n",
    "                    keras.layers.Dense(100, input_dim = 26, activation = 'relu'),\n",
    "                    keras.layers.Dense(200,  activation = 'relu'),\n",
    "                    keras.layers.Dense(200,  activation = 'relu'),\n",
    "                    keras.layers.Dense(1, activation = 'sigmoid')\n",
    "    ])\n",
    "\n",
    "    model.compile(\n",
    "            optimizer = 'adam',\n",
    "            loss = loss,\n",
    "            metrics = ['accuracy']\n",
    "        )\n",
    "    model.fit(X_train, y_train, epochs  = 50)\n",
    "    \n",
    "    y_pred = model.predict(X_test)\n",
    "    y_pred = np.round(y_pred)\n",
    "    \n",
    "    \n",
    "    cr = classification_report(y_test, y_pred)\n",
    "    \n",
    "    print('Classification Report\\n', cr)\n",
    "    \n",
    "    cm =  confusion_matrix(y_test, y_pred)\n",
    "    cm = cm.astype('float')/cm.sum(axis = 1)[:,np.newaxis]\n",
    "    import seaborn as sn\n",
    "    sn.heatmap(cm, annot = True, fmt = '.2f')\n",
    "    plt.xlabel('Predicted')\n",
    "    plt.ylabel('Truth')\n",
    "    "
   ]
  },
  {
   "cell_type": "markdown",
   "metadata": {},
   "source": [
    "# UnderSampling "
   ]
  },
  {
   "cell_type": "code",
   "execution_count": 64,
   "metadata": {},
   "outputs": [
    {
     "data": {
      "text/plain": [
       "0    5163\n",
       "1    1869\n",
       "Name: Churn, dtype: int64"
      ]
     },
     "execution_count": 64,
     "metadata": {},
     "output_type": "execute_result"
    }
   ],
   "source": [
    "y.value_counts()"
   ]
  },
  {
   "cell_type": "code",
   "execution_count": 65,
   "metadata": {},
   "outputs": [],
   "source": [
    "count_0, count_1 = y.value_counts()"
   ]
  },
  {
   "cell_type": "code",
   "execution_count": 66,
   "metadata": {},
   "outputs": [
    {
     "data": {
      "text/plain": [
       "(5163, 1869)"
      ]
     },
     "execution_count": 66,
     "metadata": {},
     "output_type": "execute_result"
    }
   ],
   "source": [
    "count_0, count_1"
   ]
  },
  {
   "cell_type": "code",
   "execution_count": 77,
   "metadata": {},
   "outputs": [],
   "source": [
    "df_count_0 = df3[df3['Churn'] == 0]\n",
    "df_count_1 = df3[df3['Churn'] == 1]"
   ]
  },
  {
   "cell_type": "code",
   "execution_count": 78,
   "metadata": {},
   "outputs": [
    {
     "data": {
      "text/plain": [
       "(1869, 27)"
      ]
     },
     "execution_count": 78,
     "metadata": {},
     "output_type": "execute_result"
    }
   ],
   "source": [
    "df_count_0_under = df_count_0.sample(count_1)\n",
    "df_count_0_under.shape"
   ]
  },
  {
   "cell_type": "code",
   "execution_count": 79,
   "metadata": {},
   "outputs": [],
   "source": [
    "df_under = pd.concat([df_count_0_under, df_count_1], axis = 0)"
   ]
  },
  {
   "cell_type": "code",
   "execution_count": 81,
   "metadata": {},
   "outputs": [
    {
     "data": {
      "text/html": [
       "<div>\n",
       "<style scoped>\n",
       "    .dataframe tbody tr th:only-of-type {\n",
       "        vertical-align: middle;\n",
       "    }\n",
       "\n",
       "    .dataframe tbody tr th {\n",
       "        vertical-align: top;\n",
       "    }\n",
       "\n",
       "    .dataframe thead th {\n",
       "        text-align: right;\n",
       "    }\n",
       "</style>\n",
       "<table border=\"1\" class=\"dataframe\">\n",
       "  <thead>\n",
       "    <tr style=\"text-align: right;\">\n",
       "      <th></th>\n",
       "      <th>gender</th>\n",
       "      <th>SeniorCitizen</th>\n",
       "      <th>Partner</th>\n",
       "      <th>Dependents</th>\n",
       "      <th>tenure</th>\n",
       "      <th>PhoneService</th>\n",
       "      <th>MultipleLines</th>\n",
       "      <th>OnlineSecurity</th>\n",
       "      <th>OnlineBackup</th>\n",
       "      <th>DeviceProtection</th>\n",
       "      <th>...</th>\n",
       "      <th>InternetService_DSL</th>\n",
       "      <th>InternetService_Fiber optic</th>\n",
       "      <th>InternetService_No</th>\n",
       "      <th>Contract_Month-to-month</th>\n",
       "      <th>Contract_One year</th>\n",
       "      <th>Contract_Two year</th>\n",
       "      <th>PaymentMethod_Bank transfer (automatic)</th>\n",
       "      <th>PaymentMethod_Credit card (automatic)</th>\n",
       "      <th>PaymentMethod_Electronic check</th>\n",
       "      <th>PaymentMethod_Mailed check</th>\n",
       "    </tr>\n",
       "  </thead>\n",
       "  <tbody>\n",
       "    <tr>\n",
       "      <th>4596</th>\n",
       "      <td>1</td>\n",
       "      <td>0</td>\n",
       "      <td>0</td>\n",
       "      <td>0</td>\n",
       "      <td>0.239437</td>\n",
       "      <td>1</td>\n",
       "      <td>1</td>\n",
       "      <td>0</td>\n",
       "      <td>0</td>\n",
       "      <td>1</td>\n",
       "      <td>...</td>\n",
       "      <td>0</td>\n",
       "      <td>1</td>\n",
       "      <td>0</td>\n",
       "      <td>0</td>\n",
       "      <td>1</td>\n",
       "      <td>0</td>\n",
       "      <td>0</td>\n",
       "      <td>1</td>\n",
       "      <td>0</td>\n",
       "      <td>0</td>\n",
       "    </tr>\n",
       "    <tr>\n",
       "      <th>2964</th>\n",
       "      <td>1</td>\n",
       "      <td>0</td>\n",
       "      <td>1</td>\n",
       "      <td>0</td>\n",
       "      <td>0.323944</td>\n",
       "      <td>1</td>\n",
       "      <td>1</td>\n",
       "      <td>1</td>\n",
       "      <td>0</td>\n",
       "      <td>0</td>\n",
       "      <td>...</td>\n",
       "      <td>1</td>\n",
       "      <td>0</td>\n",
       "      <td>0</td>\n",
       "      <td>0</td>\n",
       "      <td>1</td>\n",
       "      <td>0</td>\n",
       "      <td>0</td>\n",
       "      <td>0</td>\n",
       "      <td>1</td>\n",
       "      <td>0</td>\n",
       "    </tr>\n",
       "    <tr>\n",
       "      <th>1060</th>\n",
       "      <td>1</td>\n",
       "      <td>0</td>\n",
       "      <td>1</td>\n",
       "      <td>1</td>\n",
       "      <td>0.352113</td>\n",
       "      <td>1</td>\n",
       "      <td>0</td>\n",
       "      <td>0</td>\n",
       "      <td>0</td>\n",
       "      <td>0</td>\n",
       "      <td>...</td>\n",
       "      <td>0</td>\n",
       "      <td>0</td>\n",
       "      <td>1</td>\n",
       "      <td>0</td>\n",
       "      <td>1</td>\n",
       "      <td>0</td>\n",
       "      <td>1</td>\n",
       "      <td>0</td>\n",
       "      <td>0</td>\n",
       "      <td>0</td>\n",
       "    </tr>\n",
       "    <tr>\n",
       "      <th>848</th>\n",
       "      <td>1</td>\n",
       "      <td>0</td>\n",
       "      <td>1</td>\n",
       "      <td>0</td>\n",
       "      <td>1.000000</td>\n",
       "      <td>1</td>\n",
       "      <td>1</td>\n",
       "      <td>1</td>\n",
       "      <td>1</td>\n",
       "      <td>1</td>\n",
       "      <td>...</td>\n",
       "      <td>1</td>\n",
       "      <td>0</td>\n",
       "      <td>0</td>\n",
       "      <td>0</td>\n",
       "      <td>0</td>\n",
       "      <td>1</td>\n",
       "      <td>0</td>\n",
       "      <td>1</td>\n",
       "      <td>0</td>\n",
       "      <td>0</td>\n",
       "    </tr>\n",
       "    <tr>\n",
       "      <th>1630</th>\n",
       "      <td>1</td>\n",
       "      <td>1</td>\n",
       "      <td>1</td>\n",
       "      <td>0</td>\n",
       "      <td>0.521127</td>\n",
       "      <td>1</td>\n",
       "      <td>1</td>\n",
       "      <td>0</td>\n",
       "      <td>1</td>\n",
       "      <td>1</td>\n",
       "      <td>...</td>\n",
       "      <td>0</td>\n",
       "      <td>1</td>\n",
       "      <td>0</td>\n",
       "      <td>1</td>\n",
       "      <td>0</td>\n",
       "      <td>0</td>\n",
       "      <td>0</td>\n",
       "      <td>0</td>\n",
       "      <td>1</td>\n",
       "      <td>0</td>\n",
       "    </tr>\n",
       "  </tbody>\n",
       "</table>\n",
       "<p>5 rows × 27 columns</p>\n",
       "</div>"
      ],
      "text/plain": [
       "      gender  SeniorCitizen  Partner  Dependents    tenure  PhoneService  \\\n",
       "4596       1              0        0           0  0.239437             1   \n",
       "2964       1              0        1           0  0.323944             1   \n",
       "1060       1              0        1           1  0.352113             1   \n",
       "848        1              0        1           0  1.000000             1   \n",
       "1630       1              1        1           0  0.521127             1   \n",
       "\n",
       "      MultipleLines  OnlineSecurity  OnlineBackup  DeviceProtection  ...  \\\n",
       "4596              1               0             0                 1  ...   \n",
       "2964              1               1             0                 0  ...   \n",
       "1060              0               0             0                 0  ...   \n",
       "848               1               1             1                 1  ...   \n",
       "1630              1               0             1                 1  ...   \n",
       "\n",
       "      InternetService_DSL  InternetService_Fiber optic  InternetService_No  \\\n",
       "4596                    0                            1                   0   \n",
       "2964                    1                            0                   0   \n",
       "1060                    0                            0                   1   \n",
       "848                     1                            0                   0   \n",
       "1630                    0                            1                   0   \n",
       "\n",
       "      Contract_Month-to-month  Contract_One year  Contract_Two year  \\\n",
       "4596                        0                  1                  0   \n",
       "2964                        0                  1                  0   \n",
       "1060                        0                  1                  0   \n",
       "848                         0                  0                  1   \n",
       "1630                        1                  0                  0   \n",
       "\n",
       "      PaymentMethod_Bank transfer (automatic)  \\\n",
       "4596                                        0   \n",
       "2964                                        0   \n",
       "1060                                        1   \n",
       "848                                         0   \n",
       "1630                                        0   \n",
       "\n",
       "      PaymentMethod_Credit card (automatic)  PaymentMethod_Electronic check  \\\n",
       "4596                                      1                               0   \n",
       "2964                                      0                               1   \n",
       "1060                                      0                               0   \n",
       "848                                       1                               0   \n",
       "1630                                      0                               1   \n",
       "\n",
       "      PaymentMethod_Mailed check  \n",
       "4596                           0  \n",
       "2964                           0  \n",
       "1060                           0  \n",
       "848                            0  \n",
       "1630                           0  \n",
       "\n",
       "[5 rows x 27 columns]"
      ]
     },
     "execution_count": 81,
     "metadata": {},
     "output_type": "execute_result"
    }
   ],
   "source": [
    "df_under.head()"
   ]
  },
  {
   "cell_type": "code",
   "execution_count": 85,
   "metadata": {},
   "outputs": [],
   "source": [
    "X = df_under.drop('Churn', axis = 1)\n",
    "y = df_under['Churn']\n"
   ]
  },
  {
   "cell_type": "code",
   "execution_count": 92,
   "metadata": {},
   "outputs": [],
   "source": [
    "from sklearn.model_selection import train_test_split \n",
    "X_train, X_test, y_train, y_test = train_test_split(X,y, test_size = 0.4, random_state = 42, stratify = y)"
   ]
  },
  {
   "cell_type": "code",
   "execution_count": 93,
   "metadata": {},
   "outputs": [
    {
     "data": {
      "text/plain": [
       "1    1121\n",
       "0    1121\n",
       "Name: Churn, dtype: int64"
      ]
     },
     "execution_count": 93,
     "metadata": {},
     "output_type": "execute_result"
    }
   ],
   "source": [
    "y_train.value_counts()"
   ]
  },
  {
   "cell_type": "code",
   "execution_count": 94,
   "metadata": {},
   "outputs": [
    {
     "name": "stdout",
     "output_type": "stream",
     "text": [
      "Epoch 1/50\n",
      "2242/2242 [==============================] - 1s 346us/sample - loss: 0.5453 - acc: 0.7279\n",
      "Epoch 2/50\n",
      "2242/2242 [==============================] - 0s 84us/sample - loss: 0.4903 - acc: 0.7565\n",
      "Epoch 3/50\n",
      "2242/2242 [==============================] - 0s 93us/sample - loss: 0.4698 - acc: 0.7654\n",
      "Epoch 4/50\n",
      "2242/2242 [==============================] - 0s 83us/sample - loss: 0.4636 - acc: 0.7703\n",
      "Epoch 5/50\n",
      "2242/2242 [==============================] - 0s 86us/sample - loss: 0.4584 - acc: 0.7707\n",
      "Epoch 6/50\n",
      "2242/2242 [==============================] - 0s 82us/sample - loss: 0.4478 - acc: 0.7779\n",
      "Epoch 7/50\n",
      "2242/2242 [==============================] - 0s 85us/sample - loss: 0.4446 - acc: 0.7868\n",
      "Epoch 8/50\n",
      "2242/2242 [==============================] - 0s 95us/sample - loss: 0.4234 - acc: 0.7939\n",
      "Epoch 9/50\n",
      "2242/2242 [==============================] - 0s 84us/sample - loss: 0.4131 - acc: 0.8006\n",
      "Epoch 10/50\n",
      "2242/2242 [==============================] - 0s 85us/sample - loss: 0.4017 - acc: 0.8091\n",
      "Epoch 11/50\n",
      "2242/2242 [==============================] - 0s 86us/sample - loss: 0.3992 - acc: 0.8185\n",
      "Epoch 12/50\n",
      "2242/2242 [==============================] - 0s 87us/sample - loss: 0.3727 - acc: 0.8238\n",
      "Epoch 13/50\n",
      "2242/2242 [==============================] - 0s 141us/sample - loss: 0.3626 - acc: 0.8417\n",
      "Epoch 14/50\n",
      "2242/2242 [==============================] - 0s 141us/sample - loss: 0.3478 - acc: 0.8448\n",
      "Epoch 15/50\n",
      "2242/2242 [==============================] - 0s 141us/sample - loss: 0.3355 - acc: 0.8591\n",
      "Epoch 16/50\n",
      "2242/2242 [==============================] - 0s 157us/sample - loss: 0.3203 - acc: 0.8604\n",
      "Epoch 17/50\n",
      "2242/2242 [==============================] - 0s 136us/sample - loss: 0.2925 - acc: 0.8760\n",
      "Epoch 18/50\n",
      "2242/2242 [==============================] - 0s 124us/sample - loss: 0.2806 - acc: 0.8840\n",
      "Epoch 19/50\n",
      "2242/2242 [==============================] - 0s 161us/sample - loss: 0.2526 - acc: 0.8996\n",
      "Epoch 20/50\n",
      "2242/2242 [==============================] - 0s 157us/sample - loss: 0.2576 - acc: 0.8889\n",
      "Epoch 21/50\n",
      "2242/2242 [==============================] - 0s 137us/sample - loss: 0.2496 - acc: 0.8930\n",
      "Epoch 22/50\n",
      "2242/2242 [==============================] - 0s 153us/sample - loss: 0.2169 - acc: 0.9081\n",
      "Epoch 23/50\n",
      "2242/2242 [==============================] - 0s 138us/sample - loss: 0.2080 - acc: 0.9130\n",
      "Epoch 24/50\n",
      "2242/2242 [==============================] - 0s 133us/sample - loss: 0.1948 - acc: 0.9148\n",
      "Epoch 25/50\n",
      "2242/2242 [==============================] - 0s 161us/sample - loss: 0.2028 - acc: 0.9179\n",
      "Epoch 26/50\n",
      "2242/2242 [==============================] - 0s 128us/sample - loss: 0.2116 - acc: 0.9045\n",
      "Epoch 27/50\n",
      "2242/2242 [==============================] - 0s 148us/sample - loss: 0.1773 - acc: 0.9246\n",
      "Epoch 28/50\n",
      "2242/2242 [==============================] - 0s 158us/sample - loss: 0.1727 - acc: 0.9264\n",
      "Epoch 29/50\n",
      "2242/2242 [==============================] - 0s 136us/sample - loss: 0.1981 - acc: 0.9184\n",
      "Epoch 30/50\n",
      "2242/2242 [==============================] - 0s 145us/sample - loss: 0.1567 - acc: 0.9326\n",
      "Epoch 31/50\n",
      "2242/2242 [==============================] - 0s 111us/sample - loss: 0.1516 - acc: 0.9335\n",
      "Epoch 32/50\n",
      "2242/2242 [==============================] - 0s 98us/sample - loss: 0.1396 - acc: 0.9402\n",
      "Epoch 33/50\n",
      "2242/2242 [==============================] - 0s 89us/sample - loss: 0.1330 - acc: 0.9425\n",
      "Epoch 34/50\n",
      "2242/2242 [==============================] - 0s 114us/sample - loss: 0.1315 - acc: 0.9420\n",
      "Epoch 35/50\n",
      "2242/2242 [==============================] - 0s 149us/sample - loss: 0.1270 - acc: 0.9389\n",
      "Epoch 36/50\n",
      "2242/2242 [==============================] - 0s 136us/sample - loss: 0.1244 - acc: 0.9456\n",
      "Epoch 37/50\n",
      "2242/2242 [==============================] - 0s 137us/sample - loss: 0.1255 - acc: 0.9451\n",
      "Epoch 38/50\n",
      "2242/2242 [==============================] - 0s 139us/sample - loss: 0.1222 - acc: 0.9389\n",
      "Epoch 39/50\n",
      "2242/2242 [==============================] - 0s 141us/sample - loss: 0.1247 - acc: 0.9438\n",
      "Epoch 40/50\n",
      "2242/2242 [==============================] - 0s 137us/sample - loss: 0.1194 - acc: 0.9438\n",
      "Epoch 41/50\n",
      "2242/2242 [==============================] - 0s 137us/sample - loss: 0.1583 - acc: 0.9318\n",
      "Epoch 42/50\n",
      "2242/2242 [==============================] - 0s 165us/sample - loss: 0.1486 - acc: 0.9340\n",
      "Epoch 43/50\n",
      "2242/2242 [==============================] - 0s 134us/sample - loss: 0.1515 - acc: 0.9264\n",
      "Epoch 44/50\n",
      "2242/2242 [==============================] - 0s 111us/sample - loss: 0.1220 - acc: 0.9469\n",
      "Epoch 45/50\n",
      "2242/2242 [==============================] - 0s 90us/sample - loss: 0.1095 - acc: 0.9492\n",
      "Epoch 46/50\n",
      "2242/2242 [==============================] - 0s 93us/sample - loss: 0.1118 - acc: 0.9465\n",
      "Epoch 47/50\n",
      "2242/2242 [==============================] - 0s 85us/sample - loss: 0.1043 - acc: 0.9527\n",
      "Epoch 48/50\n",
      "2242/2242 [==============================] - 0s 162us/sample - loss: 0.1018 - acc: 0.9492\n",
      "Epoch 49/50\n",
      "2242/2242 [==============================] - 0s 167us/sample - loss: 0.1056 - acc: 0.9460\n",
      "Epoch 50/50\n",
      "2242/2242 [==============================] - 0s 130us/sample - loss: 0.1105 - acc: 0.9487\n",
      "Classification Report\n",
      "               precision    recall  f1-score   support\n",
      "\n",
      "           0       0.73      0.67      0.70       748\n",
      "           1       0.70      0.76      0.72       748\n",
      "\n",
      "    accuracy                           0.71      1496\n",
      "   macro avg       0.71      0.71      0.71      1496\n",
      "weighted avg       0.71      0.71      0.71      1496\n",
      "\n"
     ]
    },
    {
     "data": {
      "image/png": "[encoded data removed]",
      "text/plain": [
       "<Figure size 432x288 with 2 Axes>"
      ]
     },
     "metadata": {
      "needs_background": "light"
     },
     "output_type": "display_data"
    }
   ],
   "source": [
    "ANN(X_train, X_test, y_train, y_test, 'binary_crossentropy')"
   ]
  },
  {
   "cell_type": "markdown",
   "metadata": {},
   "source": [
    "# Oversampling "
   ]
  },
  {
   "cell_type": "code",
   "execution_count": 96,
   "metadata": {},
   "outputs": [
    {
     "name": "stdout",
     "output_type": "stream",
     "text": [
      "(5163, 27)\n",
      "(1869, 27)\n"
     ]
    }
   ],
   "source": [
    "df_count_0 = df3[df3['Churn'] == 0]\n",
    "df_count_1 = df3[df3['Churn'] == 1]\n",
    "print(df_count_0.shape)\n",
    "print(df_count_1.shape)"
   ]
  },
  {
   "cell_type": "code",
   "execution_count": 98,
   "metadata": {},
   "outputs": [
    {
     "data": {
      "text/plain": [
       "(5163, 27)"
      ]
     },
     "execution_count": 98,
     "metadata": {},
     "output_type": "execute_result"
    }
   ],
   "source": [
    "df_count_1_over = df_count_0.sample(count_0)\n",
    "df_count_1_over.shape"
   ]
  },
  {
   "cell_type": "code",
   "execution_count": 100,
   "metadata": {},
   "outputs": [
    {
     "data": {
      "text/plain": [
       "(10326, 27)"
      ]
     },
     "execution_count": 100,
     "metadata": {},
     "output_type": "execute_result"
    }
   ],
   "source": [
    "df_over = pd.concat([df_count_0, df_count_1_over], axis = 0)\n",
    "df_over.shape"
   ]
  },
  {
   "cell_type": "code",
   "execution_count": 101,
   "metadata": {},
   "outputs": [],
   "source": [
    "X = df_over.drop('Churn', axis = 1)\n",
    "y = df_over['Churn']"
   ]
  },
  {
   "cell_type": "code",
   "execution_count": 102,
   "metadata": {},
   "outputs": [],
   "source": [
    "from sklearn.model_selection import train_test_split \n",
    "X_train, X_test, y_train, y_test = train_test_split(X,y, test_size = 0.4, random_state = 42, stratify = y)"
   ]
  },
  {
   "cell_type": "code",
   "execution_count": 103,
   "metadata": {},
   "outputs": [
    {
     "name": "stdout",
     "output_type": "stream",
     "text": [
      "Epoch 1/50\n",
      "6195/6195 [==============================] - 1s 188us/sample - loss: 0.0198 - acc: 0.9939\n",
      "Epoch 2/50\n",
      "6195/6195 [==============================] - 1s 83us/sample - loss: 4.2196e-06 - acc: 1.0000\n",
      "Epoch 3/50\n",
      "6195/6195 [==============================] - 1s 83us/sample - loss: 1.3981e-06 - acc: 1.0000\n",
      "Epoch 4/50\n",
      "6195/6195 [==============================] - 1s 85us/sample - loss: 4.3284e-07 - acc: 1.0000\n",
      "Epoch 5/50\n",
      "6195/6195 [==============================] - 1s 84us/sample - loss: 2.0879e-07 - acc: 1.0000\n",
      "Epoch 6/50\n",
      "6195/6195 [==============================] - 1s 83us/sample - loss: 1.2368e-07 - acc: 1.0000\n",
      "Epoch 7/50\n",
      "6195/6195 [==============================] - 1s 85us/sample - loss: 8.0357e-08 - acc: 1.0000\n",
      "Epoch 8/50\n",
      "6195/6195 [==============================] - 0s 80us/sample - loss: 5.7152e-08 - acc: 1.0000\n",
      "Epoch 9/50\n",
      "6195/6195 [==============================] - 1s 86us/sample - loss: 4.2542e-08 - acc: 1.0000\n",
      "Epoch 10/50\n",
      "6195/6195 [==============================] - 1s 81us/sample - loss: 3.2707e-08 - acc: 1.0000\n",
      "Epoch 11/50\n",
      "6195/6195 [==============================] - 1s 84us/sample - loss: 2.5713e-08 - acc: 1.0000\n",
      "Epoch 12/50\n",
      "6195/6195 [==============================] - 0s 81us/sample - loss: 2.0667e-08 - acc: 1.0000\n",
      "Epoch 13/50\n",
      "6195/6195 [==============================] - 1s 85us/sample - loss: 1.6851e-08 - acc: 1.0000\n",
      "Epoch 14/50\n",
      "6195/6195 [==============================] - 1s 86us/sample - loss: 1.3976e-08 - acc: 1.0000\n",
      "Epoch 15/50\n",
      "6195/6195 [==============================] - 1s 91us/sample - loss: 1.1644e-08 - acc: 1.0000\n",
      "Epoch 16/50\n",
      "6195/6195 [==============================] - 1s 82us/sample - loss: 9.8484e-09 - acc: 1.0000\n",
      "Epoch 17/50\n",
      "6195/6195 [==============================] - 1s 83us/sample - loss: 8.3977e-09 - acc: 1.0000\n",
      "Epoch 18/50\n",
      "6195/6195 [==============================] - 1s 91us/sample - loss: 7.2046e-09 - acc: 1.0000\n",
      "Epoch 19/50\n",
      "6195/6195 [==============================] - 1s 82us/sample - loss: 6.2178e-09 - acc: 1.0000\n",
      "Epoch 20/50\n",
      "6195/6195 [==============================] - 1s 81us/sample - loss: 5.3974e-09 - acc: 1.0000\n",
      "Epoch 21/50\n",
      "6195/6195 [==============================] - 1s 86us/sample - loss: 4.7247e-09 - acc: 1.0000\n",
      "Epoch 22/50\n",
      "6195/6195 [==============================] - 0s 80us/sample - loss: 4.1361e-09 - acc: 1.0000\n",
      "Epoch 23/50\n",
      "6195/6195 [==============================] - 1s 86us/sample - loss: 3.6433e-09 - acc: 1.0000\n",
      "Epoch 24/50\n",
      "6195/6195 [==============================] - 1s 82us/sample - loss: 3.2374e-09 - acc: 1.0000\n",
      "Epoch 25/50\n",
      "6195/6195 [==============================] - 1s 84us/sample - loss: 2.8764e-09 - acc: 1.0000\n",
      "Epoch 26/50\n",
      "6195/6195 [==============================] - 1s 81us/sample - loss: 2.5716e-09 - acc: 1.0000\n",
      "Epoch 27/50\n",
      "6195/6195 [==============================] - 1s 87us/sample - loss: 2.3048e-09 - acc: 1.0000\n",
      "Epoch 28/50\n",
      "6195/6195 [==============================] - 1s 85us/sample - loss: 2.0725e-09 - acc: 1.0000\n",
      "Epoch 29/50\n",
      "6195/6195 [==============================] - 0s 81us/sample - loss: 1.8620e-09 - acc: 1.0000\n",
      "Epoch 30/50\n",
      "6195/6195 [==============================] - 1s 86us/sample - loss: 1.6899e-09 - acc: 1.0000\n",
      "Epoch 31/50\n",
      "6195/6195 [==============================] - 1s 83us/sample - loss: 1.5265e-09 - acc: 1.0000\n",
      "Epoch 32/50\n",
      "6195/6195 [==============================] - 1s 86us/sample - loss: 1.3802e-09 - acc: 1.0000\n",
      "Epoch 33/50\n",
      "6195/6195 [==============================] - 1s 84us/sample - loss: 1.2524e-09 - acc: 1.0000\n",
      "Epoch 34/50\n",
      "6195/6195 [==============================] - 1s 84us/sample - loss: 1.1412e-09 - acc: 1.0000\n",
      "Epoch 35/50\n",
      "6195/6195 [==============================] - 0s 81us/sample - loss: 1.0397e-09 - acc: 1.0000\n",
      "Epoch 36/50\n",
      "6195/6195 [==============================] - 1s 87us/sample - loss: 9.5002e-10 - acc: 1.0000\n",
      "Epoch 37/50\n",
      "6195/6195 [==============================] - 1s 81us/sample - loss: 8.7020e-10 - acc: 1.0000\n",
      "Epoch 38/50\n",
      "6195/6195 [==============================] - 1s 83us/sample - loss: 7.9765e-10 - acc: 1.0000\n",
      "Epoch 39/50\n",
      "6195/6195 [==============================] - 1s 81us/sample - loss: 7.3200e-10 - acc: 1.0000\n",
      "Epoch 40/50\n",
      "6195/6195 [==============================] - 1s 86us/sample - loss: 6.7297e-10 - acc: 1.0000\n",
      "Epoch 41/50\n",
      "6195/6195 [==============================] - 1s 81us/sample - loss: 6.1907e-10 - acc: 1.0000\n",
      "Epoch 42/50\n",
      "6195/6195 [==============================] - 1s 86us/sample - loss: 5.7107e-10 - acc: 1.0000\n",
      "Epoch 43/50\n",
      "6195/6195 [==============================] - 1s 82us/sample - loss: 5.2671e-10 - acc: 1.0000\n",
      "Epoch 44/50\n",
      "6195/6195 [==============================] - 1s 84us/sample - loss: 4.8696e-10 - acc: 1.0000\n",
      "Epoch 45/50\n",
      "6195/6195 [==============================] - 1s 82us/sample - loss: 4.5092e-10 - acc: 1.0000\n",
      "Epoch 46/50\n",
      "6195/6195 [==============================] - 1s 86us/sample - loss: 4.1776e-10 - acc: 1.0000\n",
      "Epoch 47/50\n",
      "6195/6195 [==============================] - 1s 81us/sample - loss: 3.8817e-10 - acc: 1.0000\n",
      "Epoch 48/50\n",
      "6195/6195 [==============================] - 1s 84us/sample - loss: 3.6101e-10 - acc: 1.0000\n",
      "Epoch 49/50\n",
      "6195/6195 [==============================] - 1s 82us/sample - loss: 3.3625e-10 - acc: 1.0000\n",
      "Epoch 50/50\n",
      "6195/6195 [==============================] - 0s 80us/sample - loss: 3.1293e-10 - acc: 1.0000\n",
      "Classification Report\n",
      "               precision    recall  f1-score   support\n",
      "\n",
      "           0       1.00      1.00      1.00      4131\n",
      "\n",
      "    accuracy                           1.00      4131\n",
      "   macro avg       1.00      1.00      1.00      4131\n",
      "weighted avg       1.00      1.00      1.00      4131\n",
      "\n"
     ]
    },
    {
     "data": {
      "image/png": "[encoded data removed]",
      "text/plain": [
       "<Figure size 432x288 with 2 Axes>"
      ]
     },
     "metadata": {
      "needs_background": "light"
     },
     "output_type": "display_data"
    }
   ],
   "source": [
    "ANN(X_train, X_test, y_train, y_test, 'binary_crossentropy')"
   ]
  },
  {
   "cell_type": "markdown",
   "metadata": {},
   "source": [
    "#  SMOTE "
   ]
  },
  {
   "cell_type": "code",
   "execution_count": 108,
   "metadata": {},
   "outputs": [],
   "source": [
    "from imblearn.over_sampling  import SMOTE"
   ]
  },
  {
   "cell_type": "code",
   "execution_count": 110,
   "metadata": {},
   "outputs": [
    {
     "name": "stdout",
     "output_type": "stream",
     "text": [
      "(7032,)\n",
      "(7032, 26)\n"
     ]
    }
   ],
   "source": [
    "X = df3.drop('Churn', axis = 'columns')\n",
    "y = df3['Churn']\n",
    "print(y.shape)\n",
    "print(X.shape)"
   ]
  },
  {
   "cell_type": "code",
   "execution_count": 113,
   "metadata": {},
   "outputs": [],
   "source": [
    "sm = SMOTE(random_state = 42)\n",
    "X_sm, y_sm = sm.fit_resample(X,y)"
   ]
  },
  {
   "cell_type": "code",
   "execution_count": 114,
   "metadata": {},
   "outputs": [],
   "source": [
    "from sklearn.model_selection import train_test_split \n",
    "X_train, X_test, y_train, y_test = train_test_split(X_sm,y_sm, test_size = 0.4, random_state = 42, stratify = y_sm)"
   ]
  },
  {
   "cell_type": "code",
   "execution_count": 115,
   "metadata": {},
   "outputs": [
    {
     "name": "stdout",
     "output_type": "stream",
     "text": [
      "Epoch 1/50\n",
      "6195/6195 [==============================] - 1s 184us/sample - loss: 0.4854 - acc: 0.7730\n",
      "Epoch 2/50\n",
      "6195/6195 [==============================] - 1s 85us/sample - loss: 0.4518 - acc: 0.7863\n",
      "Epoch 3/50\n",
      "6195/6195 [==============================] - 1s 82us/sample - loss: 0.4403 - acc: 0.7984\n",
      "Epoch 4/50\n",
      "6195/6195 [==============================] - 1s 87us/sample - loss: 0.4249 - acc: 0.8061\n",
      "Epoch 5/50\n",
      "6195/6195 [==============================] - 1s 83us/sample - loss: 0.4149 - acc: 0.8128\n",
      "Epoch 6/50\n",
      "6195/6195 [==============================] - 1s 84us/sample - loss: 0.3994 - acc: 0.8211\n",
      "Epoch 7/50\n",
      "6195/6195 [==============================] - 1s 81us/sample - loss: 0.3850 - acc: 0.8316\n",
      "Epoch 8/50\n",
      "6195/6195 [==============================] - 1s 87us/sample - loss: 0.3749 - acc: 0.8363\n",
      "Epoch 9/50\n",
      "6195/6195 [==============================] - 1s 86us/sample - loss: 0.3621 - acc: 0.8399\n",
      "Epoch 10/50\n",
      "6195/6195 [==============================] - 0s 80us/sample - loss: 0.3524 - acc: 0.8465\n",
      "Epoch 11/50\n",
      "6195/6195 [==============================] - 1s 83us/sample - loss: 0.3337 - acc: 0.8567\n",
      "Epoch 12/50\n",
      "6195/6195 [==============================] - 1s 81us/sample - loss: 0.3282 - acc: 0.8578\n",
      "Epoch 13/50\n",
      "6195/6195 [==============================] - 1s 83us/sample - loss: 0.3152 - acc: 0.8665\n",
      "Epoch 14/50\n",
      "6195/6195 [==============================] - 1s 81us/sample - loss: 0.2963 - acc: 0.8760\n",
      "Epoch 15/50\n",
      "6195/6195 [==============================] - 1s 84us/sample - loss: 0.2831 - acc: 0.8835\n",
      "Epoch 16/50\n",
      "6195/6195 [==============================] - 0s 80us/sample - loss: 0.2696 - acc: 0.8852\n",
      "Epoch 17/50\n",
      "6195/6195 [==============================] - 1s 84us/sample - loss: 0.2596 - acc: 0.8918\n",
      "Epoch 18/50\n",
      "6195/6195 [==============================] - 1s 82us/sample - loss: 0.2493 - acc: 0.8949\n",
      "Epoch 19/50\n",
      "6195/6195 [==============================] - 1s 85us/sample - loss: 0.2393 - acc: 0.9002\n",
      "Epoch 20/50\n",
      "6195/6195 [==============================] - 1s 82us/sample - loss: 0.2297 - acc: 0.9009\n",
      "Epoch 21/50\n",
      "6195/6195 [==============================] - 1s 88us/sample - loss: 0.2174 - acc: 0.9085\n",
      "Epoch 22/50\n",
      "6195/6195 [==============================] - 1s 84us/sample - loss: 0.2135 - acc: 0.9123\n",
      "Epoch 23/50\n",
      "6195/6195 [==============================] - 1s 87us/sample - loss: 0.2038 - acc: 0.9148\n",
      "Epoch 24/50\n",
      "6195/6195 [==============================] - 1s 82us/sample - loss: 0.1951 - acc: 0.9195\n",
      "Epoch 25/50\n",
      "6195/6195 [==============================] - 1s 84us/sample - loss: 0.1974 - acc: 0.9161\n",
      "Epoch 26/50\n",
      "6195/6195 [==============================] - 1s 81us/sample - loss: 0.1828 - acc: 0.9245\n",
      "Epoch 27/50\n",
      "6195/6195 [==============================] - 1s 95us/sample - loss: 0.1807 - acc: 0.9266\n",
      "Epoch 28/50\n",
      "6195/6195 [==============================] - 1s 83us/sample - loss: 0.1776 - acc: 0.9249\n",
      "Epoch 29/50\n",
      "6195/6195 [==============================] - 1s 82us/sample - loss: 0.1724 - acc: 0.9295\n",
      "Epoch 30/50\n",
      "6195/6195 [==============================] - 1s 83us/sample - loss: 0.1754 - acc: 0.9275\n",
      "Epoch 31/50\n",
      "6195/6195 [==============================] - 1s 105us/sample - loss: 0.1698 - acc: 0.9290\n",
      "Epoch 32/50\n",
      "6195/6195 [==============================] - 1s 91us/sample - loss: 0.1629 - acc: 0.9327\n",
      "Epoch 33/50\n",
      "6195/6195 [==============================] - 1s 84us/sample - loss: 0.1524 - acc: 0.9366\n",
      "Epoch 34/50\n",
      "6195/6195 [==============================] - 1s 89us/sample - loss: 0.1530 - acc: 0.9353\n",
      "Epoch 35/50\n",
      "6195/6195 [==============================] - 1s 84us/sample - loss: 0.1563 - acc: 0.9330\n",
      "Epoch 36/50\n",
      "6195/6195 [==============================] - 1s 87us/sample - loss: 0.1560 - acc: 0.9340\n",
      "Epoch 37/50\n",
      "6195/6195 [==============================] - 1s 86us/sample - loss: 0.1446 - acc: 0.9362\n",
      "Epoch 38/50\n",
      "6195/6195 [==============================] - 1s 88us/sample - loss: 0.1445 - acc: 0.9380\n",
      "Epoch 39/50\n",
      "6195/6195 [==============================] - 1s 85us/sample - loss: 0.1448 - acc: 0.9359\n",
      "Epoch 40/50\n",
      "6195/6195 [==============================] - 1s 85us/sample - loss: 0.1513 - acc: 0.9348\n",
      "Epoch 41/50\n",
      "6195/6195 [==============================] - 1s 83us/sample - loss: 0.1448 - acc: 0.9385\n",
      "Epoch 42/50\n",
      "6195/6195 [==============================] - 1s 85us/sample - loss: 0.1377 - acc: 0.9427\n",
      "Epoch 43/50\n",
      "6195/6195 [==============================] - 1s 100us/sample - loss: 0.1345 - acc: 0.9419\n",
      "Epoch 44/50\n",
      "6195/6195 [==============================] - 1s 95us/sample - loss: 0.1351 - acc: 0.9404\n",
      "Epoch 45/50\n",
      "6195/6195 [==============================] - 1s 111us/sample - loss: 0.1283 - acc: 0.9430\n",
      "Epoch 46/50\n",
      "6195/6195 [==============================] - 1s 110us/sample - loss: 0.1306 - acc: 0.9430\n",
      "Epoch 47/50\n",
      "6195/6195 [==============================] - 1s 116us/sample - loss: 0.1383 - acc: 0.9390\n",
      "Epoch 48/50\n",
      "6195/6195 [==============================] - 1s 91us/sample - loss: 0.1365 - acc: 0.9388\n",
      "Epoch 49/50\n",
      "6195/6195 [==============================] - 1s 88us/sample - loss: 0.1384 - acc: 0.9396\n",
      "Epoch 50/50\n",
      "6195/6195 [==============================] - 1s 91us/sample - loss: 0.1365 - acc: 0.9408\n",
      "Classification Report\n",
      "               precision    recall  f1-score   support\n",
      "\n",
      "           0       0.84      0.74      0.79      2066\n",
      "           1       0.77      0.86      0.81      2065\n",
      "\n",
      "    accuracy                           0.80      4131\n",
      "   macro avg       0.81      0.80      0.80      4131\n",
      "weighted avg       0.81      0.80      0.80      4131\n",
      "\n"
     ]
    },
    {
     "data": {
      "image/png": "[encoded data removed]",
      "text/plain": [
       "<Figure size 432x288 with 2 Axes>"
      ]
     },
     "metadata": {
      "needs_background": "light"
     },
     "output_type": "display_data"
    }
   ],
   "source": [
    "ANN(X_train, X_test, y_train, y_test, 'binary_crossentropy')"
   ]
  },
  {
   "cell_type": "code",
   "execution_count": null,
   "metadata": {},
   "outputs": [],
   "source": []
  }
 ],
 "metadata": {
  "kernelspec": {
   "display_name": "Python 3",
   "language": "python",
   "name": "python3"
  },
  "language_info": {
   "codemirror_mode": {
    "name": "ipython",
    "version": 3
   },
   "file_extension": ".py",
   "mimetype": "text/x-python",
   "name": "python",
   "nbconvert_exporter": "python",
   "pygments_lexer": "ipython3",
   "version": "3.7.3"
  }
 },
 "nbformat": 4,
 "nbformat_minor": 2
}
