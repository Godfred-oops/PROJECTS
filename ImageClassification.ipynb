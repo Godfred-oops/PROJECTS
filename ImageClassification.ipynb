{
 "cells": [
  {
   "cell_type": "code",
   "execution_count": 35,
   "metadata": {},
   "outputs": [],
   "source": [
    "import tensorflow as tf \n",
    "from tensorflow import keras \n",
    "import numpy as np \n",
    "import matplotlib.pyplot as plt"
   ]
  },
  {
   "cell_type": "code",
   "execution_count": 36,
   "metadata": {},
   "outputs": [],
   "source": [
    "(X_train, y_train), (X_test,y_test) = keras.datasets.cifar10.load_data()"
   ]
  },
  {
   "cell_type": "code",
   "execution_count": 37,
   "metadata": {},
   "outputs": [],
   "source": [
    "X_train = X_train/255\n",
    "X_test = X_test/255"
   ]
  },
  {
   "cell_type": "code",
   "execution_count": 38,
   "metadata": {},
   "outputs": [
    {
     "data": {
      "text/plain": [
       "<matplotlib.image.AxesImage at 0x2200bcfadd8>"
      ]
     },
     "execution_count": 38,
     "metadata": {},
     "output_type": "execute_result"
    },
    {
     "data": {
      "image/png": "[encoded data removed]",
      "text/plain": [
       "<Figure size 288x288 with 1 Axes>"
      ]
     },
     "metadata": {
      "needs_background": "light"
     },
     "output_type": "display_data"
    }
   ],
   "source": [
    "plt.matshow(X_test[1])"
   ]
  },
  {
   "cell_type": "code",
   "execution_count": 39,
   "metadata": {},
   "outputs": [
    {
     "data": {
      "text/plain": [
       "array([8])"
      ]
     },
     "execution_count": 39,
     "metadata": {},
     "output_type": "execute_result"
    }
   ],
   "source": [
    "y_test[1]"
   ]
  },
  {
   "cell_type": "code",
   "execution_count": 40,
   "metadata": {},
   "outputs": [],
   "source": [
    "Classes = ['airplane','automobile','bird','cat','deer','dog','frog','horse','ship','truck']"
   ]
  },
  {
   "cell_type": "code",
   "execution_count": 41,
   "metadata": {},
   "outputs": [
    {
     "data": {
      "text/plain": [
       "'ship'"
      ]
     },
     "execution_count": 41,
     "metadata": {},
     "output_type": "execute_result"
    }
   ],
   "source": [
    "Classes[y_test[2][0]]"
   ]
  },
  {
   "cell_type": "code",
   "execution_count": 42,
   "metadata": {},
   "outputs": [],
   "source": [
    "def image(index):\n",
    "    return Classes[y_test[index][0]]"
   ]
  },
  {
   "cell_type": "code",
   "execution_count": 43,
   "metadata": {},
   "outputs": [
    {
     "data": {
      "text/plain": [
       "<matplotlib.image.AxesImage at 0x2200bd64b00>"
      ]
     },
     "execution_count": 43,
     "metadata": {},
     "output_type": "execute_result"
    },
    {
     "data": {
      "image/png": "[encoded data removed]",
      "text/plain": [
       "<Figure size 288x288 with 1 Axes>"
      ]
     },
     "metadata": {
      "needs_background": "light"
     },
     "output_type": "display_data"
    }
   ],
   "source": [
    "plt.matshow(X_test[20])"
   ]
  },
  {
   "cell_type": "code",
   "execution_count": 44,
   "metadata": {},
   "outputs": [
    {
     "data": {
      "text/plain": [
       "(10000, 32, 32, 3)"
      ]
     },
     "execution_count": 44,
     "metadata": {},
     "output_type": "execute_result"
    }
   ],
   "source": [
    "X_test.shape"
   ]
  },
  {
   "cell_type": "code",
   "execution_count": 45,
   "metadata": {},
   "outputs": [
    {
     "data": {
      "text/plain": [
       "'ship'"
      ]
     },
     "execution_count": 45,
     "metadata": {},
     "output_type": "execute_result"
    }
   ],
   "source": [
    "image(2)"
   ]
  },
  {
   "cell_type": "code",
   "execution_count": 46,
   "metadata": {},
   "outputs": [],
   "source": [
    "y_train_categorical = keras.utils.to_categorical(y_train, num_classes = 10)\n",
    "y_test_categorical= keras.utils.to_categorical(y_test, num_classes = 10)"
   ]
  },
  {
   "cell_type": "code",
   "execution_count": 49,
   "metadata": {},
   "outputs": [
    {
     "name": "stdout",
     "output_type": "stream",
     "text": [
      "Epoch 1/50\n",
      "50000/50000 [==============================] - 125s 2ms/sample - loss: 1.8077 - acc: 0.3587\n",
      "Epoch 2/50\n",
      "50000/50000 [==============================] - 122s 2ms/sample - loss: 1.6213 - acc: 0.4315\n",
      "Epoch 3/50\n",
      "50000/50000 [==============================] - 117s 2ms/sample - loss: 1.5377 - acc: 0.4593\n",
      "Epoch 4/50\n",
      "50000/50000 [==============================] - 126s 3ms/sample - loss: 1.4758 - acc: 0.4828\n",
      "Epoch 5/50\n",
      "50000/50000 [==============================] - 122s 2ms/sample - loss: 1.4267 - acc: 0.4977\n",
      "Epoch 6/50\n",
      "50000/50000 [==============================] - 129s 3ms/sample - loss: 1.3837 - acc: 0.5127\n",
      "Epoch 7/50\n",
      "50000/50000 [==============================] - 119s 2ms/sample - loss: 1.3426 - acc: 0.5265\n",
      "Epoch 8/50\n",
      "50000/50000 [==============================] - 114s 2ms/sample - loss: 1.3098 - acc: 0.5423\n",
      "Epoch 9/50\n",
      "50000/50000 [==============================] - 117s 2ms/sample - loss: 1.2765 - acc: 0.5513\n",
      "Epoch 10/50\n",
      "50000/50000 [==============================] - 99s 2ms/sample - loss: 1.2441 - acc: 0.5665\n",
      "Epoch 11/50\n",
      "50000/50000 [==============================] - 119s 2ms/sample - loss: 1.2130 - acc: 0.5760\n",
      "Epoch 12/50\n",
      "50000/50000 [==============================] - 110s 2ms/sample - loss: 1.1840 - acc: 0.5858\n",
      "Epoch 13/50\n",
      "50000/50000 [==============================] - 112s 2ms/sample - loss: 1.1548 - acc: 0.5978\n",
      "Epoch 14/50\n",
      "50000/50000 [==============================] - 114s 2ms/sample - loss: 1.1287 - acc: 0.6079\n",
      "Epoch 15/50\n",
      "50000/50000 [==============================] - 114s 2ms/sample - loss: 1.0972 - acc: 0.6181\n",
      "Epoch 16/50\n",
      "50000/50000 [==============================] - 109s 2ms/sample - loss: 1.0719 - acc: 0.6277\n",
      "Epoch 17/50\n",
      "50000/50000 [==============================] - 115s 2ms/sample - loss: 1.0438 - acc: 0.6359\n",
      "Epoch 18/50\n",
      "50000/50000 [==============================] - 113s 2ms/sample - loss: 1.0174 - acc: 0.6480\n",
      "Epoch 19/50\n",
      "50000/50000 [==============================] - 111s 2ms/sample - loss: 0.9904 - acc: 0.6554\n",
      "Epoch 20/50\n",
      "50000/50000 [==============================] - 115s 2ms/sample - loss: 0.9634 - acc: 0.6673\n",
      "Epoch 21/50\n",
      "50000/50000 [==============================] - 112s 2ms/sample - loss: 0.9378 - acc: 0.6771\n",
      "Epoch 22/50\n",
      "50000/50000 [==============================] - 126s 3ms/sample - loss: 0.9126 - acc: 0.6843\n",
      "Epoch 23/50\n",
      "50000/50000 [==============================] - 120s 2ms/sample - loss: 0.8819 - acc: 0.6969s - lo\n",
      "Epoch 24/50\n",
      "50000/50000 [==============================] - 116s 2ms/sample - loss: 0.8577 - acc: 0.7046\n",
      "Epoch 25/50\n",
      "50000/50000 [==============================] - 120s 2ms/sample - loss: 0.8330 - acc: 0.7155\n",
      "Epoch 26/50\n",
      "50000/50000 [==============================] - 115s 2ms/sample - loss: 0.8046 - acc: 0.7254\n",
      "Epoch 27/50\n",
      "50000/50000 [==============================] - 102s 2ms/sample - loss: 0.7788 - acc: 0.7338\n",
      "Epoch 28/50\n",
      "50000/50000 [==============================] - 113s 2ms/sample - loss: 0.7534 - acc: 0.7436\n",
      "Epoch 29/50\n",
      "50000/50000 [==============================] - 114s 2ms/sample - loss: 0.7266 - acc: 0.7518\n",
      "Epoch 30/50\n",
      "50000/50000 [==============================] - 110s 2ms/sample - loss: 0.7000 - acc: 0.7632\n",
      "Epoch 31/50\n",
      "50000/50000 [==============================] - 110s 2ms/sample - loss: 0.6755 - acc: 0.7714\n",
      "Epoch 32/50\n",
      "50000/50000 [==============================] - 112s 2ms/sample - loss: 0.6476 - acc: 0.7827\n",
      "Epoch 33/50\n",
      "50000/50000 [==============================] - 111s 2ms/sample - loss: 0.6229 - acc: 0.7917\n",
      "Epoch 34/50\n",
      "50000/50000 [==============================] - 110s 2ms/sample - loss: 0.5967 - acc: 0.8015\n",
      "Epoch 35/50\n",
      "50000/50000 [==============================] - 118s 2ms/sample - loss: 0.5697 - acc: 0.8136\n",
      "Epoch 36/50\n",
      "50000/50000 [==============================] - 103s 2ms/sample - loss: 0.5478 - acc: 0.8208\n",
      "Epoch 37/50\n",
      "50000/50000 [==============================] - 117s 2ms/sample - loss: 0.5212 - acc: 0.8307\n",
      "Epoch 38/50\n",
      "50000/50000 [==============================] - 122s 2ms/sample - loss: 0.4969 - acc: 0.8381\n",
      "Epoch 39/50\n",
      "50000/50000 [==============================] - 111s 2ms/sample - loss: 0.4769 - acc: 0.8449\n",
      "Epoch 40/50\n",
      "50000/50000 [==============================] - 118s 2ms/sample - loss: 0.4509 - acc: 0.8550\n",
      "Epoch 41/50\n",
      "50000/50000 [==============================] - 118s 2ms/sample - loss: 0.4297 - acc: 0.8642\n",
      "Epoch 42/50\n",
      "50000/50000 [==============================] - 115s 2ms/sample - loss: 0.4073 - acc: 0.8728\n",
      "Epoch 43/50\n",
      "50000/50000 [==============================] - 113s 2ms/sample - loss: 0.3848 - acc: 0.8807\n",
      "Epoch 44/50\n",
      "50000/50000 [==============================] - 119s 2ms/sample - loss: 0.3654 - acc: 0.8883\n",
      "Epoch 45/50\n",
      "50000/50000 [==============================] - 113s 2ms/sample - loss: 0.3454 - acc: 0.8936\n",
      "Epoch 46/50\n",
      "50000/50000 [==============================] - 112s 2ms/sample - loss: 0.3240 - acc: 0.9033\n",
      "Epoch 47/50\n",
      "50000/50000 [==============================] - 113s 2ms/sample - loss: 0.3061 - acc: 0.9093\n",
      "Epoch 48/50\n",
      "50000/50000 [==============================] - 112s 2ms/sample - loss: 0.2897 - acc: 0.9148\n",
      "Epoch 49/50\n",
      "50000/50000 [==============================] - 113s 2ms/sample - loss: 0.2749 - acc: 0.9197\n",
      "Epoch 50/50\n",
      "50000/50000 [==============================] - 111s 2ms/sample - loss: 0.2556 - acc: 0.9280\n",
      "1h 35min 46s ± 0 ns per loop (mean ± std. dev. of 1 run, 1 loop each)\n"
     ]
    }
   ],
   "source": [
    "%%timeit -n1 -r1\n",
    "model = keras.Sequential([\n",
    "    keras.layers.Flatten(input_shape = (32,32,3)),\n",
    "    keras.layers.Dense(3000, activation = 'relu'),\n",
    "    keras.layers.Dense(3000, activation = 'relu'),\n",
    "    keras.layers.Dense(10, activation = 'softmax')\n",
    "])\n",
    "\n",
    "model.compile(\n",
    "    optimizer = 'SGD',\n",
    "    loss = 'categorical_crossentropy',\n",
    "    metrics = ['accuracy']\n",
    ")\n",
    "\n",
    "model.fit(X_train, y_train_categorical, epochs = 50)"
   ]
  },
  {
   "cell_type": "code",
   "execution_count": 61,
   "metadata": {},
   "outputs": [
    {
     "data": {
      "text/plain": [
       "'cat'"
      ]
     },
     "execution_count": 61,
     "metadata": {},
     "output_type": "execute_result"
    }
   ],
   "source": [
    "Classes[np.argmax(model.predict(X_test)[0])]"
   ]
  },
  {
   "cell_type": "code",
   "execution_count": 59,
   "metadata": {},
   "outputs": [
    {
     "data": {
      "text/plain": [
       "'cat'"
      ]
     },
     "execution_count": 59,
     "metadata": {},
     "output_type": "execute_result"
    }
   ],
   "source": [
    "Classes[y_test[0][0]]"
   ]
  },
  {
   "cell_type": "code",
   "execution_count": null,
   "metadata": {},
   "outputs": [],
   "source": [
    "\n"
   ]
  }
 ],
 "metadata": {
  "kernelspec": {
   "display_name": "Python 3",
   "language": "python",
   "name": "python3"
  },
  "language_info": {
   "codemirror_mode": {
    "name": "ipython",
    "version": 3
   },
   "file_extension": ".py",
   "mimetype": "text/x-python",
   "name": "python",
   "nbconvert_exporter": "python",
   "pygments_lexer": "ipython3",
   "version": "3.7.3"
  }
 },
 "nbformat": 4,
 "nbformat_minor": 2
}
