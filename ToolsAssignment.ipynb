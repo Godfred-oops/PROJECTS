{
 "cells": [
  {
   "cell_type": "markdown",
   "id": "e6c80832-8199-4efb-a342-0d8fe62eacff",
   "metadata": {},
   "source": [
    "# My Jupyter Notebook on IBM Watson Studio #"
   ]
  },
  {
   "cell_type": "markdown",
   "id": "ff193ddd-a364-4fa1-892f-16d0f812ab6d",
   "metadata": {},
   "source": [
    "### Ababio Godfred Opoku ###\n",
    "Data Scientist at Telsa"
   ]
  },
  {
   "cell_type": "markdown",
   "id": "6c1f30c6-4177-4a4c-a5df-e4dc64c63a9c",
   "metadata": {},
   "source": [
    "_I am interested in data science because of my love for math and applying these skills and ideas in solving engineering problems_"
   ]
  },
  {
   "cell_type": "markdown",
   "id": "c40988bc-6603-4297-81c6-3f6a663f0c15",
   "metadata": {},
   "source": [
    "printing the positive even numbers between 0 and 10"
   ]
  },
  {
   "cell_type": "code",
   "execution_count": 10,
   "id": "1980d248-b9ec-41d7-a32c-9e5eb58e66fc",
   "metadata": {},
   "outputs": [
    {
     "name": "stdout",
     "output_type": "stream",
     "text": [
      "[0, 2, 4, 6, 8]\n"
     ]
    }
   ],
   "source": [
    "x = [y for y in range(0,10)]\n",
    "a = []\n",
    "for i in range(len(x)):\n",
    "    if x[i]% 2 == 0:\n",
    "        a.append(x[i])\n",
    "print(a)"
   ]
  },
  {
   "cell_type": "markdown",
   "id": "52958510-201d-4af4-a6f9-68914a1b2497",
   "metadata": {},
   "source": [
    "* Job\n",
    "* Assets\n",
    "* Environment\n",
    "\n",
    "[Markdown Cheatsheet](https://github.com/adam-p/markdown-here/wiki/Markdown-Cheatsheet)\n",
    "\n",
    "![alt text][logo] \n",
    "\n",
    "[logo]: https://github.com/adam-p/markdown-here/raw/master/src/common/images/icon48.png \"logo text 1\""
   ]
  },
  {
   "cell_type": "code",
   "execution_count": null,
   "id": "6b9bbcea-8a6c-462d-aa9e-e2a49f598eef",
   "metadata": {},
   "outputs": [],
   "source": []
  }
 ],
 "metadata": {
  "kernelspec": {
   "display_name": "Python",
   "language": "python",
   "name": "conda-env-python-py"
  },
  "language_info": {
   "codemirror_mode": {
    "name": "ipython",
    "version": 3
   },
   "file_extension": ".py",
   "mimetype": "text/x-python",
   "name": "python",
   "nbconvert_exporter": "python",
   "pygments_lexer": "ipython3",
   "version": "3.7.12"
  }
 },
 "nbformat": 4,
 "nbformat_minor": 5
}
